{
 "cells": [
  {
   "cell_type": "markdown",
   "id": "12b25e15-4a75-4c3c-91f1-c7ed1167b789",
   "metadata": {},
   "source": [
    "# ***PYTHON***"
   ]
  },
  {
   "cell_type": "markdown",
   "id": "8d80c4fd-d53a-4dcb-a538-4c027ba41cf7",
   "metadata": {},
   "source": [
    "# **FOR LOOP, WHILE LOOP**"
   ]
  },
  {
   "cell_type": "markdown",
   "id": "037de8e6-0f45-4cd8-9d15-38abd606fe0c",
   "metadata": {},
   "source": [
    "# Patterns "
   ]
  },
  {
   "cell_type": "code",
   "execution_count": 1,
   "id": "29842efb-ca76-47d8-b57d-a6db719561d1",
   "metadata": {},
   "outputs": [
    {
     "name": "stdout",
     "output_type": "stream",
     "text": [
      "1 \n",
      "1 2 \n",
      "1 2 3 \n",
      "1 2 3 4 \n",
      "1 2 3 4 5 \n"
     ]
    }
   ],
   "source": [
    "for i in range(0,5):\n",
    "    for j in range(i+1):\n",
    "        print(j+1, end = ' ')\n",
    "    print()"
   ]
  },
  {
   "cell_type": "code",
   "execution_count": 2,
   "id": "553f16f2-da73-4c72-bda4-a01d106c226b",
   "metadata": {},
   "outputs": [
    {
     "name": "stdout",
     "output_type": "stream",
     "text": [
      "1 2 3 4 5 \n",
      "1 2 3 4 \n",
      "1 2 3 \n",
      "1 2 \n",
      "1 \n"
     ]
    }
   ],
   "source": [
    "for i in range(5,0,-1):\n",
    "    for j in range(1,i+1):\n",
    "        print(j,end = ' ')\n",
    "    print()"
   ]
  },
  {
   "cell_type": "code",
   "execution_count": 3,
   "id": "14225f0f-e1a7-43c3-a92f-56373a9e5ec5",
   "metadata": {},
   "outputs": [
    {
     "name": "stdout",
     "output_type": "stream",
     "text": [
      "1 \n",
      "2 3 \n",
      "4 5 6 \n",
      "7 8 9 10 \n",
      "11 12 13 14 15 \n"
     ]
    }
   ],
   "source": [
    "number = 1 \n",
    "for i in range(5):\n",
    "    for j in range(i+1):\n",
    "        print(number, end = ' ')\n",
    "        number = number + 1\n",
    "    print()"
   ]
  },
  {
   "cell_type": "code",
   "execution_count": 4,
   "id": "938259e5-3c10-412f-8444-1410a72b8b09",
   "metadata": {},
   "outputs": [
    {
     "name": "stdout",
     "output_type": "stream",
     "text": [
      "1   2   3   4   5   \n",
      "6   7   8   9   \n",
      "10   11   12   \n",
      "13   14   \n",
      "15   \n"
     ]
    }
   ],
   "source": [
    "number = 1\n",
    "for i in range (5,0,-1):\n",
    "    for j in range(1,i+1):\n",
    "        print(number, end = '   ')\n",
    "        number = number + 1\n",
    "    print()"
   ]
  },
  {
   "cell_type": "code",
   "execution_count": null,
   "id": "d2825083-1604-4353-ba1b-18780cba3e4f",
   "metadata": {},
   "outputs": [],
   "source": []
  },
  {
   "cell_type": "markdown",
   "id": "83987cec-a752-43b1-bcfa-d32261b9a07b",
   "metadata": {},
   "source": [
    "# ITERATIONS"
   ]
  },
  {
   "cell_type": "code",
   "execution_count": 5,
   "id": "2f16111a-a55e-46b1-bd67-48bba0cc7a3f",
   "metadata": {},
   "outputs": [
    {
     "name": "stdout",
     "output_type": "stream",
     "text": [
      "['Jatin', 'Rahul', 'Lalita', 'Fatima']\n"
     ]
    }
   ],
   "source": [
    "#Q1 store the names in a new_list whose corresponding value in the second list matches their length \n",
    "names = ['Jatin','Sachin', 'Rahul', 'Lalita', 'Priyanka', 'Harshit', 'Priyank', 'Naveen', 'Fatima', 'Nagarjun', 'Sudhir', 'Menaka']\n",
    "size = [5, 4, 5, 6, 4, 2, 5, 7, 6, 6, 8, 7]\n",
    "\n",
    "new = []\n",
    "for i , j in zip(names, size):                                                          # ZIP FUN()\n",
    "    if len(i) == j:\n",
    "        new.append(i)\n",
    "print(new)"
   ]
  },
  {
   "cell_type": "code",
   "execution_count": 6,
   "id": "f42f0567-c3fa-4545-bc9d-5485aa1d7599",
   "metadata": {},
   "outputs": [
    {
     "name": "stdout",
     "output_type": "stream",
     "text": [
      "['Jatin', 'Rahul', 'Lalita', 'Fatima']\n"
     ]
    }
   ],
   "source": [
    "names = ['Jatin', 'Sachin', 'Rahul', 'Lalita', 'Priyanka', 'Harshit', 'Priyank', 'Naveen', 'Fatima', 'Nagarjun', 'Sudhir', 'Menaka']\n",
    "size = [5, 4, 5, 6, 4, 2, 5, 7, 6, 6, 8, 7]\n",
    "\n",
    "new_list = [i for i, j in zip(names, size) if len(i) == j]                             # LIST COMPREHENSION\n",
    "\n",
    "print(new_list)"
   ]
  },
  {
   "cell_type": "code",
   "execution_count": null,
   "id": "20d555bb-3bcd-47ed-b1da-b3fdd7f7a3d1",
   "metadata": {},
   "outputs": [],
   "source": []
  },
  {
   "cell_type": "code",
   "execution_count": null,
   "id": "0afadcf7-1505-4c90-8f1d-b6299042f3a2",
   "metadata": {},
   "outputs": [],
   "source": []
  },
  {
   "cell_type": "code",
   "execution_count": null,
   "id": "c93d5d86-60f6-48b0-81db-71662ed197bd",
   "metadata": {},
   "outputs": [],
   "source": [
    "#Q2 From a list given below, get only the strings.\n",
    "#names = [23,67,'Jatin',56,'Sachin',89,90,'Rahul','Lalita',102,12,24,'Priyanka',89,100,32,48,70,'Harshit','Priyank','Naveen',9,15,64,'Fatima','Nagarjuna',108,117,104,'Sudhir','Menaka']"
   ]
  },
  {
   "cell_type": "code",
   "execution_count": 7,
   "id": "79563957-4a89-42c7-8b99-2646d6423f0f",
   "metadata": {},
   "outputs": [
    {
     "name": "stdout",
     "output_type": "stream",
     "text": [
      "['Jatin', 'Sachin', 'Rahul', 'Lalita', 'Priyanka', 'Harshit', 'Priyank', 'Naveen', 'Fatima', 'Nagarjuna', 'Sudhir', 'Menaka']\n"
     ]
    }
   ],
   "source": [
    "names = [23, 67, 'Jatin', 56, 'Sachin', 89, 90, 'Rahul', 'Lalita', 102, 12, 24, 'Priyanka', 89, 100, 32, 48, 70, 'Harshit', 'Priyank', 'Naveen', 9, 15, 64, 'Fatima', 'Nagarjuna', 108, 117, 104, 'Sudhir', 'Menaka']\n",
    "\n",
    "new_list = []\n",
    "for i in names:\n",
    "    if isinstance(i, str):                                       # FOR LOOP\n",
    "        new_list.append(i)\n",
    "\n",
    "print(new_list)"
   ]
  },
  {
   "cell_type": "code",
   "execution_count": 8,
   "id": "bd85f344-546c-4389-b367-e0a5e1373d30",
   "metadata": {},
   "outputs": [
    {
     "name": "stdout",
     "output_type": "stream",
     "text": [
      "['Jatin', 'Sachin', 'Rahul', 'Lalita', 'Priyanka', 'Harshit', 'Priyank', 'Naveen', 'Fatima', 'Nagarjuna', 'Sudhir', 'Menaka']\n"
     ]
    }
   ],
   "source": [
    "names = [23, 67, 'Jatin', 56, 'Sachin', 89, 90, 'Rahul', 'Lalita', 102, 12, 24, 'Priyanka', 89, 100, 32, 48, 70, 'Harshit', 'Priyank', 'Naveen', 9, 15, 64, 'Fatima', 'Nagarjuna', 108, 117, 104, 'Sudhir', 'Menaka']\n",
    "\n",
    "new_list = []\n",
    "i = 0\n",
    "while i < len(names):\n",
    "    if isinstance(names[i], str):                                # WHILE LOOP \n",
    "        new_list.append(names[i])\n",
    "    i += 1\n",
    "\n",
    "print(new_list)"
   ]
  },
  {
   "cell_type": "code",
   "execution_count": null,
   "id": "601cf64c-0b69-4bbc-8c85-68dab2afe378",
   "metadata": {},
   "outputs": [],
   "source": []
  },
  {
   "cell_type": "code",
   "execution_count": null,
   "id": "d6d07a5b-1075-4cb7-8899-57e80610cd5d",
   "metadata": {},
   "outputs": [],
   "source": []
  },
  {
   "cell_type": "code",
   "execution_count": null,
   "id": "b47e29d8-4129-4fb0-b35e-6800328b767b",
   "metadata": {},
   "outputs": [],
   "source": [
    "#Q3 display only the numeric values given in the list.\n",
    "#names = [5, 4, 5, 6, 4, 2, 5, 7, 6, 6, 8, 7,'Jatin','Sachin', 'Rahul', 'Lalita', 'Priyanka', 'Harshit', 'Priyank', 'Naveen', 'Fatima', 'Nagarjun', 'Sudhir', 'Menaka']"
   ]
  },
  {
   "cell_type": "code",
   "execution_count": 9,
   "id": "8fb40805-7407-4f0f-ae98-55aa74a9c71c",
   "metadata": {},
   "outputs": [
    {
     "name": "stdout",
     "output_type": "stream",
     "text": [
      "5,4,5,6,4,2,5,7,6,6,8,7,"
     ]
    }
   ],
   "source": [
    "names = [5, 4, 5, 6, 4, 2, 5, 7, 6, 6, 8, 7, 'Jatin', 'Sachin', 'Rahul', 'Lalita', 'Priyanka', 'Harshit', 'Priyank', 'Naveen', 'Fatima', 'Nagarjun', 'Sudhir', 'Menaka']\n",
    "\n",
    "for i in names:\n",
    "    if isinstance(i, (int, float)):                             # FOR LOOP\n",
    "        print(i, end=',')"
   ]
  },
  {
   "cell_type": "code",
   "execution_count": 10,
   "id": "f1b1e35f-ff89-416f-80b9-160414131aff",
   "metadata": {},
   "outputs": [
    {
     "name": "stdout",
     "output_type": "stream",
     "text": [
      "5,4,5,6,4,2,5,7,6,6,8,7,"
     ]
    }
   ],
   "source": [
    "names = [5, 4, 5, 6, 4, 2, 5, 7, 6, 6, 8, 7, 'Jatin', 'Sachin', 'Rahul', 'Lalita', 'Priyanka', 'Harshit', 'Priyank', 'Naveen', 'Fatima', 'Nagarjun', 'Sudhir', 'Menaka']\n",
    "\n",
    "i = 0\n",
    "while i < len(names):\n",
    "    if isinstance(names[i], (int, float)):                    # WHILE LOOP \n",
    "        print(names[i], end = ',')\n",
    "    i += 1"
   ]
  },
  {
   "cell_type": "code",
   "execution_count": null,
   "id": "e150334b-6db3-47a6-8842-8ef5b7635929",
   "metadata": {},
   "outputs": [],
   "source": []
  },
  {
   "cell_type": "code",
   "execution_count": null,
   "id": "22159bb7-767b-417c-a8a2-6290c9addf1e",
   "metadata": {},
   "outputs": [],
   "source": []
  },
  {
   "cell_type": "code",
   "execution_count": null,
   "id": "3215233b-f2ad-43c1-85e9-da15e4c2ea9b",
   "metadata": {},
   "outputs": [],
   "source": [
    "# Q4 You have to append the salaries list in the emp list and then you have to display their salaries.\n",
    "#emp = ['Sachin','Rahul','Lalita','Priyanka','Harshit','Priyank','Naveen','Fatima','Nagarjuna'] \n",
    "#sal = [34000,45000,50000,30000,28000,45000,55000,70000,60000] "
   ]
  },
  {
   "cell_type": "code",
   "execution_count": 11,
   "id": "91186281-ae8a-43d4-bd09-f1886b01bad1",
   "metadata": {},
   "outputs": [
    {
     "name": "stdout",
     "output_type": "stream",
     "text": [
      "[34000, 45000, 50000, 30000, 28000, 45000, 55000, 70000, 60000]\n"
     ]
    }
   ],
   "source": [
    "emp = ['Sachin', 'Rahul', 'Lalita', 'Priyanka', 'Harshit', 'Priyank', 'Naveen', 'Fatima', 'Nagarjuna'] \n",
    "sal = [34000, 45000, 50000, 30000, 28000, 45000, 55000, 70000, 60000]\n",
    "\n",
    "up_emp = []\n",
    "emp = emp + sal\n",
    "#print(emp)\n",
    "                                                       # For Loop without indexing\n",
    "for i in emp:\n",
    "    if isinstance(i, (int, float)):\n",
    "        up_emp.append(i)\n",
    "\n",
    "print(up_emp)"
   ]
  },
  {
   "cell_type": "code",
   "execution_count": 12,
   "id": "1aa592c9-c32f-4dff-a19a-0b4a3d94ddba",
   "metadata": {},
   "outputs": [
    {
     "name": "stdout",
     "output_type": "stream",
     "text": [
      "[34000, 45000, 50000, 30000, 28000, 45000, 55000, 70000, 60000]\n"
     ]
    }
   ],
   "source": [
    "emp = ['Sachin', 'Rahul', 'Lalita', 'Priyanka', 'Harshit', 'Priyank', 'Naveen', 'Fatima', 'Nagarjuna'] \n",
    "sal = [34000, 45000, 50000, 30000, 28000, 45000, 55000, 70000, 60000]\n",
    "\n",
    "up_emp = []\n",
    "emp = emp + sal\n",
    "#print(emp)\n",
    "                                                       # For Loop with indexing \n",
    "for i in range(len(emp)):\n",
    "    if isinstance(emp[i], (int, float)):\n",
    "        up_emp.append(emp[i])\n",
    "\n",
    "print(up_emp)"
   ]
  },
  {
   "cell_type": "code",
   "execution_count": 13,
   "id": "f4966ddc-59b7-4f75-b647-5d0547ebdc71",
   "metadata": {},
   "outputs": [
    {
     "name": "stdout",
     "output_type": "stream",
     "text": [
      "[34000, 45000, 50000, 30000, 28000, 45000, 55000, 70000, 60000]\n"
     ]
    }
   ],
   "source": [
    "emp = ['Sachin', 'Rahul', 'Lalita', 'Priyanka', 'Harshit', 'Priyank', 'Naveen', 'Fatima', 'Nagarjuna'] \n",
    "sal = [34000, 45000, 50000, 30000, 28000, 45000, 55000, 70000, 60000]\n",
    "\n",
    "emp = emp + sal\n",
    "new_list =[]\n",
    "i = 0\n",
    "while i < len(emp):                                    # While Loop with indexing \n",
    "    if isinstance(emp[i], (int, float)):\n",
    "        new_list.append(emp[i])\n",
    "    i += 1\n",
    "\n",
    "print(new_list)"
   ]
  },
  {
   "cell_type": "code",
   "execution_count": null,
   "id": "1f7021e2-dcd0-4816-be19-b644ce617b47",
   "metadata": {},
   "outputs": [],
   "source": []
  },
  {
   "cell_type": "code",
   "execution_count": null,
   "id": "893c8ed0-7a7d-43bc-8f5e-b6325b6a8239",
   "metadata": {},
   "outputs": [],
   "source": []
  },
  {
   "cell_type": "code",
   "execution_count": null,
   "id": "cb11c8ca-24c9-49b2-9250-8332f57e13a9",
   "metadata": {},
   "outputs": [],
   "source": [
    "# Q5 Display the names of those employees whose salary is greater than the average of all the employees.\n",
    "# Employees = ['Sachin','Rahul','Lalita','Priyanka','Harshit','Priyank','Naveen','Fatima','Nagarjuna',34000,45000,50000,30000,28000,45000,55000,70000,60000] "
   ]
  },
  {
   "cell_type": "code",
   "execution_count": 14,
   "id": "510ef30f-7e36-4f58-969f-cd6e0dd8777c",
   "metadata": {},
   "outputs": [
    {
     "name": "stdout",
     "output_type": "stream",
     "text": [
      "['Sachin', 'Rahul', 'Lalita', 'Priyanka', 'Harshit', 'Priyank', 'Naveen', 'Fatima', 'Nagarjuna']\n",
      "[34000, 45000, 50000, 30000, 28000, 45000, 55000, 70000, 60000]\n",
      "46333.333333333336\n",
      "Lalita\n",
      "Naveen\n",
      "Fatima\n",
      "Nagarjuna\n"
     ]
    }
   ],
   "source": [
    "Employees = ['Sachin', 'Rahul', 'Lalita', 'Priyanka', 'Harshit', 'Priyank', 'Naveen', 'Fatima', 'Nagarjuna', 34000, 45000, 50000, 30000, 28000, 45000, 55000, 70000, 60000]\n",
    "\n",
    "# Separate names and salaries\n",
    "names = Employees[:9]\n",
    "salaries = Employees[9:]\n",
    "print(names)\n",
    "print(salaries)\n",
    "\n",
    "# Calculate the average salary\n",
    "average_salary = sum(salaries) / len(salaries)\n",
    "print(average_salary)\n",
    "\n",
    "# Display the names of employees whose salary is greater than the average\n",
    "for i in range(len(salaries)):\n",
    "    if salaries[i] > average_salary:\n",
    "        print(names[i])"
   ]
  },
  {
   "cell_type": "code",
   "execution_count": null,
   "id": "16f6ebb8-abcb-49c9-800a-f5a0c52e3d96",
   "metadata": {},
   "outputs": [],
   "source": []
  },
  {
   "cell_type": "code",
   "execution_count": null,
   "id": "3c73b487-a078-472c-9eb1-e4316c4f7e00",
   "metadata": {},
   "outputs": [],
   "source": []
  },
  {
   "cell_type": "code",
   "execution_count": null,
   "id": "7ec12a7e-97aa-494c-9981-2b1baed05dab",
   "metadata": {},
   "outputs": [],
   "source": [
    "#Q6 Display the names of those employees whose salary is greater than the average of all the employees.\n",
    "#Employees = ['Sachin',34000,'Rahul',45000,'Lalita',50000,'Priyanka',30000,'Harshit',28000,'Priyank',45000,'Naveen',55000,'Fatima',70000,'Nagarjuna',60000] "
   ]
  },
  {
   "cell_type": "code",
   "execution_count": 15,
   "id": "a84d29e9-533d-4235-87f3-6137ff40f55c",
   "metadata": {},
   "outputs": [
    {
     "name": "stdout",
     "output_type": "stream",
     "text": [
      "Lalita\n",
      "Naveen\n",
      "Fatima\n",
      "Nagarjuna\n"
     ]
    }
   ],
   "source": [
    "Employees = ['Sachin', 34000, 'Rahul', 45000, 'Lalita', 50000, 'Priyanka', 30000, \n",
    "             'Harshit', 28000, 'Priyank', 45000, 'Naveen', 55000, 'Fatima', 70000, \n",
    "             'Nagarjuna', 60000]\n",
    "\n",
    "# Separate names and salaries\n",
    "names = Employees[::2]  # Get names from even indices\n",
    "salaries = Employees[1::2]  # Get salaries from odd indices\n",
    "\n",
    "# Calculate the average salary\n",
    "average_salary = sum(salaries) / len(salaries)\n",
    "\n",
    "# Display the names of employees whose salary is greater than the average\n",
    "for i in range(len(salaries)):\n",
    "    if salaries[i] > average_salary:\n",
    "        print(names[i])"
   ]
  },
  {
   "cell_type": "code",
   "execution_count": null,
   "id": "0869ddfa-274d-4d0a-a592-3863c8291685",
   "metadata": {},
   "outputs": [],
   "source": []
  },
  {
   "cell_type": "code",
   "execution_count": null,
   "id": "de13548c-bf5d-476d-80f0-db7ec9cc0f96",
   "metadata": {},
   "outputs": [],
   "source": []
  },
  {
   "cell_type": "code",
   "execution_count": null,
   "id": "2e2a60d9-c3db-4248-a15d-5579b81ae01f",
   "metadata": {},
   "outputs": [],
   "source": [
    "#Q7 df = [23,45000,15,33.5,41.2,60000,18.5,33.2,28.6,28000,34000,41.65,40000,35000]\n",
    "#Update the list by replacing the values which are given in the format like (23K...23000)"
   ]
  },
  {
   "cell_type": "code",
   "execution_count": 16,
   "id": "37894485-9eff-482e-af61-3159e619dc76",
   "metadata": {},
   "outputs": [
    {
     "name": "stdout",
     "output_type": "stream",
     "text": [
      "[23000, 45000, 15000, 33500.0, 41200.0, 60000, 18500.0, 33200.0, 28600.0, 28000, 34000, 41650.0, 40000, 35000]\n"
     ]
    }
   ],
   "source": [
    "df = [23, 45000, 15, 33.5, 41.2, 60000, 18.5, 33.2, 28.6, 28000, 34000, 41.65, 40000, 35000]\n",
    "for i in range(len(df)):\n",
    "    if df[i] < 1000:\n",
    "        df[i]= df[i]*1000                                 # Replacing in the same list \n",
    "    else:\n",
    "        df[i] = df[i]\n",
    "print (df)"
   ]
  },
  {
   "cell_type": "code",
   "execution_count": 17,
   "id": "03952dd2-2f8b-4243-aa99-21a6170b9e6c",
   "metadata": {},
   "outputs": [
    {
     "name": "stdout",
     "output_type": "stream",
     "text": [
      "[23000, 45000, 15000, 33500.0, 41200.0, 60000, 18500.0, 33200.0, 28600.0, 28000, 34000, 41650.0, 40000, 35000]\n"
     ]
    }
   ],
   "source": [
    "df = [23, 45000, 15, 33.5, 41.2, 60000, 18.5, 33.2, 28.6, 28000, 34000, 41.65, 40000, 35000]\n",
    "\n",
    "def update_values(lst):\n",
    "    updated_list = []\n",
    "    for i in lst:\n",
    "        if i < 1000:   \n",
    "            updated_list.append(i * 1000)                # updating in the new list \n",
    "        else:\n",
    "            updated_list.append(i)\n",
    "    return updated_list\n",
    "\n",
    "\n",
    "updated_df = update_values(df)\n",
    "print(updated_df)"
   ]
  },
  {
   "cell_type": "code",
   "execution_count": null,
   "id": "3f9f8a05-60cd-4908-a269-ed2b569415a5",
   "metadata": {},
   "outputs": [],
   "source": []
  },
  {
   "cell_type": "code",
   "execution_count": null,
   "id": "60ee4412-a476-47d9-a328-c86b936b37a3",
   "metadata": {},
   "outputs": [],
   "source": []
  },
  {
   "cell_type": "code",
   "execution_count": null,
   "id": "d23d5844-9ec8-4d58-970c-33f043788964",
   "metadata": {},
   "outputs": [],
   "source": []
  },
  {
   "cell_type": "markdown",
   "id": "c6608401-058c-41c9-8e05-321bb99703b8",
   "metadata": {},
   "source": [
    "# ***DATA STRUCTURES*** "
   ]
  },
  {
   "cell_type": "markdown",
   "id": "7764c642-1e4e-42cd-8612-69924385c4f6",
   "metadata": {},
   "source": [
    "# **TUPLES**"
   ]
  },
  {
   "cell_type": "code",
   "execution_count": 18,
   "id": "dd732400-dcd8-473a-9df2-638af83ad989",
   "metadata": {},
   "outputs": [],
   "source": [
    "tuple = (1,5,8,9,6,5,10,3,5,9)"
   ]
  },
  {
   "cell_type": "code",
   "execution_count": 19,
   "id": "5a96f3c9-12db-4bc4-9340-808696642ab7",
   "metadata": {},
   "outputs": [
    {
     "data": {
      "text/plain": [
       "1"
      ]
     },
     "execution_count": 19,
     "metadata": {},
     "output_type": "execute_result"
    }
   ],
   "source": [
    "tuple.index(5)      "
   ]
  },
  {
   "cell_type": "code",
   "execution_count": 20,
   "id": "035a5be3-1dd5-415b-b62a-560f0ae49207",
   "metadata": {},
   "outputs": [
    {
     "data": {
      "text/plain": [
       "5"
      ]
     },
     "execution_count": 20,
     "metadata": {},
     "output_type": "execute_result"
    }
   ],
   "source": [
    "tuple.index(5,tuple.index(5)+1)                              # second occurence dynamic "
   ]
  },
  {
   "cell_type": "code",
   "execution_count": 21,
   "id": "adc0eb67-f808-4808-b61e-ae7db8e5a95a",
   "metadata": {},
   "outputs": [
    {
     "data": {
      "text/plain": [
       "8"
      ]
     },
     "execution_count": 21,
     "metadata": {},
     "output_type": "execute_result"
    }
   ],
   "source": [
    "tuple.index(5,tuple.index(5,tuple.index(5)+1)+1)            # third occurence"
   ]
  },
  {
   "cell_type": "code",
   "execution_count": null,
   "id": "eb69a7e5-3407-4e6c-a0e9-d25da760eb6b",
   "metadata": {},
   "outputs": [],
   "source": []
  },
  {
   "cell_type": "code",
   "execution_count": 22,
   "id": "bf0e6686-28ba-45c2-9b04-999144f74f17",
   "metadata": {},
   "outputs": [],
   "source": [
    "#Q1 how many fraudulant swappings are done in that day and what are the indexes of that fraud value 0 - normal person 1 - fraud person \n",
    "Metro_card_fraud_detection = (0,0,0,0,0,0,0,0,0,0,0,0,0,0,0,0,0,0,0,0,0,0,0,0,0,0,0,0,0,0,0,0,0,0,0,0,1,0,0,0,0,0,0,0,0,0,0,0,0,0,0,0,0,0,0,0,0,0,0,0,0,0,0,0,0,0,0,0,0,0,0,0,0,1,0,0,0,0,0,0,0,0,0,0,0,0,0,0,0,0,0,0,0,0,0,0,0,0,0,0,0,0,0,0,0,0,0,0,0,0,0,0,0,0,0,0,0,0,0,0,0,0,0,0,0,0,0,0,1,0,0,0,0,0,0,0,0,0,0,0,0,0,0,0,0,0,0)"
   ]
  },
  {
   "cell_type": "code",
   "execution_count": 23,
   "id": "ca0c7de3-c85a-4cd6-847e-64c034cf2b71",
   "metadata": {},
   "outputs": [
    {
     "data": {
      "text/plain": [
       "3"
      ]
     },
     "execution_count": 23,
     "metadata": {},
     "output_type": "execute_result"
    }
   ],
   "source": [
    "Metro_card_fraud_detection.count(1)"
   ]
  },
  {
   "cell_type": "code",
   "execution_count": 24,
   "id": "ba52e881-874a-412c-a11d-0679a9b47726",
   "metadata": {},
   "outputs": [
    {
     "data": {
      "text/plain": [
       "36"
      ]
     },
     "execution_count": 24,
     "metadata": {},
     "output_type": "execute_result"
    }
   ],
   "source": [
    "Metro_card_fraud_detection.index(1)"
   ]
  },
  {
   "cell_type": "code",
   "execution_count": 25,
   "id": "cebc5602-41b8-4dcb-8c36-6ad78c75efbf",
   "metadata": {},
   "outputs": [
    {
     "data": {
      "text/plain": [
       "73"
      ]
     },
     "execution_count": 25,
     "metadata": {},
     "output_type": "execute_result"
    }
   ],
   "source": [
    "Metro_card_fraud_detection.index(1, Metro_card_fraud_detection.index(1)+1)"
   ]
  },
  {
   "cell_type": "code",
   "execution_count": 26,
   "id": "cf571923-1e1d-458e-91de-107ad1f06e68",
   "metadata": {},
   "outputs": [
    {
     "data": {
      "text/plain": [
       "128"
      ]
     },
     "execution_count": 26,
     "metadata": {},
     "output_type": "execute_result"
    }
   ],
   "source": [
    "Metro_card_fraud_detection.index(1,Metro_card_fraud_detection.index(1,Metro_card_fraud_detection.index(1)+1)+1)"
   ]
  },
  {
   "cell_type": "code",
   "execution_count": null,
   "id": "d554cc5d-6550-4802-9555-1605da0c05db",
   "metadata": {},
   "outputs": [],
   "source": []
  },
  {
   "cell_type": "markdown",
   "id": "3ea218aa-21ce-46a7-b5c4-91f7d16c46ba",
   "metadata": {},
   "source": [
    "# LOOPING ON TUPLES"
   ]
  },
  {
   "cell_type": "code",
   "execution_count": 27,
   "id": "a297ea54-82b0-4a3e-b35a-ea723c474b87",
   "metadata": {},
   "outputs": [],
   "source": [
    "#Q2 how many fraudulant swappings are done in that day and what are the indexes of that fraud value 0 - normal person 1 - fraud person \n",
    "Metro_card_fraud_detection = (0,0,0,0,0,0,0,0,0,0,0,0,0,0,0,0,0,0,0,0,0,0,0,0,0,0,0,0,0,0,0,0,0,0,0,0,1,0,0,0,0,0,0,0,0,0,0,0,0,0,0,0,0,0,0,0,0,0,0,0,0,0,0,0,0,0,0,0,0,0,0,0,0,1,0,0,0,0,0,0,0,0,0,0,0,0,0,0,0,0,0,0,0,0,0,0,0,0,0,0,0,0,0,0,0,0,0,0,0,0,0,0,0,0,0,0,0,0,0,0,0,0,0,0,0,0,0,0,1,0,0,0,0,0,0,0,0,0,0,0,0,0,0,0,0,0,0)"
   ]
  },
  {
   "cell_type": "code",
   "execution_count": 28,
   "id": "f683ad92-6c72-4591-9f58-310818f9339d",
   "metadata": {},
   "outputs": [
    {
     "name": "stdout",
     "output_type": "stream",
     "text": [
      "3 "
     ]
    }
   ],
   "source": [
    "count = 0\n",
    "for i in Metro_card_fraud_detection:\n",
    "    if i == 1:\n",
    "        count = count + 1\n",
    "print(count, end = \" \")"
   ]
  },
  {
   "cell_type": "code",
   "execution_count": null,
   "id": "e00b8ed0-7f05-45fb-977b-f1b3986ac648",
   "metadata": {},
   "outputs": [],
   "source": []
  },
  {
   "cell_type": "code",
   "execution_count": 29,
   "id": "8c08e074-5901-4176-9dfd-c30e84276111",
   "metadata": {},
   "outputs": [],
   "source": [
    "#Q3 Gender Survey find the females and males\n",
    "Gender = (\"F\",\"Male\",\"Female\",\"male\",\"M\",\"F\",\"Male\",\"Female\",\"male\",\"M\",\"F\",\"Male\",\"Female\",\"male\",\"M\",\"F\",\"Male\",\"Female\",\"male\",\"M\",\"F\",\"Male\",\"Female\",\"male\",\"M\",\"F\",\"Male\",\"Female\",\"male\",\"M\",\"F\",\"Male\",\"Female\",\"male\",\"M\",\"F\",\"Male\",\"Female\",\"male\",\"M\")"
   ]
  },
  {
   "cell_type": "code",
   "execution_count": 30,
   "id": "ce48764c-412a-4340-9d82-a1009ce3dc80",
   "metadata": {},
   "outputs": [
    {
     "name": "stdout",
     "output_type": "stream",
     "text": [
      "16\n",
      "24\n"
     ]
    }
   ],
   "source": [
    "m_count = 0\n",
    "f_count = 0\n",
    "for i in Gender:\n",
    "    if i == 'F' or i == 'f' or i == 'Female' or i == 'female':\n",
    "        f_count = f_count+1\n",
    "    elif i == 'M' or i == 'm' or i == 'Male' or i == 'male': \n",
    "        m_count = m_count+1\n",
    "print(f_count)\n",
    "print(m_count)"
   ]
  },
  {
   "cell_type": "code",
   "execution_count": null,
   "id": "568774bd-71e3-4ded-93ce-1324ddcb16dc",
   "metadata": {},
   "outputs": [],
   "source": []
  },
  {
   "cell_type": "code",
   "execution_count": 31,
   "id": "f6851e51-151e-46fc-a49d-a9fd1b700fef",
   "metadata": {},
   "outputs": [],
   "source": [
    "#Q4 display only those names which are coming at indexes multiple of 3\n",
    "names = (\"Surya\",\"Venky\",\"Ritu\",\"Siddhant\",\"Sankar\",\"Jyoti\",\"Vepasa\",\"Zahid\",\"Jahanavi\",\"Manasa\",\"Vishnu\",\"Aakash\",\"Avichal\")"
   ]
  },
  {
   "cell_type": "code",
   "execution_count": 32,
   "id": "3211c601-0696-4438-a849-571e5dc4493a",
   "metadata": {},
   "outputs": [
    {
     "name": "stdout",
     "output_type": "stream",
     "text": [
      "Surya,Siddhant,Vepasa,Manasa,Avichal,"
     ]
    }
   ],
   "source": [
    "names = list(names)\n",
    "for i in names:\n",
    "    a = names.index(i)\n",
    "    if a%3 == 0:\n",
    "        print(i, end = ',') "
   ]
  },
  {
   "cell_type": "code",
   "execution_count": null,
   "id": "3201fcf2-c4bb-4284-8c6e-93f3e147fa31",
   "metadata": {},
   "outputs": [],
   "source": []
  },
  {
   "cell_type": "markdown",
   "id": "b6690387-b4c8-4f73-8459-d19ae2aea99d",
   "metadata": {},
   "source": [
    "# TUPLE INDEXING "
   ]
  },
  {
   "cell_type": "code",
   "execution_count": null,
   "id": "381aec1e-7f3d-468a-978f-f293263b19f3",
   "metadata": {},
   "outputs": [],
   "source": [
    "y = tuple(range(2000, 20000, 100))\n",
    "num_values = len(y)\n",
    "print(num_values)\n",
    "\n",
    "first_100_values = y[:100]\n",
    "print(first_100_values)\n",
    "\n",
    "last_100_values = y[-100:]\n",
    "print(last_100_values)"
   ]
  },
  {
   "cell_type": "markdown",
   "id": "44dffccb-a922-4ed6-b591-307fff5b2791",
   "metadata": {},
   "source": [
    "# **LIST**"
   ]
  },
  {
   "cell_type": "code",
   "execution_count": 36,
   "id": "8b27fc46-f901-4c79-bbdd-ada16a0f26e9",
   "metadata": {},
   "outputs": [],
   "source": [
    "#Q1\n",
    "names = ['Gayathri', 'Akash', 'Ritu', 'Ritik', 'Radha', 'Venky', 'Jyoti']"
   ]
  },
  {
   "cell_type": "code",
   "execution_count": 37,
   "id": "977ce6fc-1f2e-49e9-93ab-a0fac46d0441",
   "metadata": {},
   "outputs": [],
   "source": [
    "# append the names at the last  \n",
    "names.append('Dhanshree')"
   ]
  },
  {
   "cell_type": "code",
   "execution_count": 38,
   "id": "9da76142-480e-412c-b255-65bdbedf563f",
   "metadata": {},
   "outputs": [],
   "source": [
    "# add sankar name between radha and venky\n",
    "names.insert(5,'Sankar')"
   ]
  },
  {
   "cell_type": "code",
   "execution_count": 39,
   "id": "84a9b845-a183-41f7-ac1d-7f3d4057a8b1",
   "metadata": {},
   "outputs": [],
   "source": [
    "# add Vepasa , Jahnavi, Vishnu, Manasa, Ritu\n",
    "names.extend(['Vepasa', 'Jahnavi', 'Vishnu', 'Manasa', 'Ritu'])"
   ]
  },
  {
   "cell_type": "code",
   "execution_count": 40,
   "id": "b98acf8a-85aa-4949-9da9-e6b720cf6d72",
   "metadata": {},
   "outputs": [
    {
     "name": "stdout",
     "output_type": "stream",
     "text": [
      "['Gayathri', 'Akash', 'Ritu', 'Ritik', 'Radha', 'Sankar', 'Venky', 'Jyoti', 'Dhanshree', 'Vepasa', 'Jahnavi', 'Vishnu', 'Manasa', 'Ritu']\n"
     ]
    }
   ],
   "source": [
    "# copy() copies the list \n",
    "names_1 = names.copy()\n",
    "print(names_1)"
   ]
  },
  {
   "cell_type": "code",
   "execution_count": 41,
   "id": "3c39d6d7-60ea-4bda-97e8-37477357b501",
   "metadata": {},
   "outputs": [
    {
     "data": {
      "text/plain": [
       "'Ritu'"
      ]
     },
     "execution_count": 41,
     "metadata": {},
     "output_type": "execute_result"
    }
   ],
   "source": [
    "# pop() deletes the last element in the list \n",
    "names_1.pop()"
   ]
  },
  {
   "cell_type": "code",
   "execution_count": 42,
   "id": "c57045e0-0e55-4f7d-88c4-92898a151c4e",
   "metadata": {},
   "outputs": [
    {
     "name": "stdout",
     "output_type": "stream",
     "text": [
      "['Gayathri', 'Akash', 'Ritu', 'Radha', 'Sankar', 'Venky', 'Jyoti', 'Dhanshree', 'Vepasa', 'Jahnavi', 'Vishnu', 'Manasa']\n"
     ]
    }
   ],
   "source": [
    "# remove() deletes the value of a user choice \n",
    "names_1.remove('Ritik')\n",
    "print(names_1)"
   ]
  },
  {
   "cell_type": "code",
   "execution_count": 43,
   "id": "862ac6bc-1743-443a-aaf7-681a148baa02",
   "metadata": {},
   "outputs": [
    {
     "name": "stdout",
     "output_type": "stream",
     "text": [
      "[]\n"
     ]
    }
   ],
   "source": [
    "# clear() clears the entire list \n",
    "names_1.clear()\n",
    "print(names_1)"
   ]
  },
  {
   "cell_type": "code",
   "execution_count": null,
   "id": "c3165d77-b9a5-422e-ac33-32f6b6f25efa",
   "metadata": {},
   "outputs": [],
   "source": []
  },
  {
   "cell_type": "markdown",
   "id": "af882813-53f6-4124-8e61-691fdd8d0d1f",
   "metadata": {},
   "source": [
    "# LOOPING ON LIST "
   ]
  },
  {
   "cell_type": "code",
   "execution_count": 44,
   "id": "c472d115-ea5f-4a56-8b07-8371171f7b20",
   "metadata": {},
   "outputs": [],
   "source": [
    "#Q2\n",
    "l = [15, 20, 23, 45, 60, 78, 91, 65, 78, 72, 60, 21, 35, 36, 40, 50, 88, 33, 11, 8, 4]"
   ]
  },
  {
   "cell_type": "code",
   "execution_count": 45,
   "id": "0bea80e9-f0e6-4480-825e-f9ae51ee94d6",
   "metadata": {},
   "outputs": [
    {
     "name": "stdout",
     "output_type": "stream",
     "text": [
      "15,23,45,91,65,21,35,33,11,"
     ]
    }
   ],
   "source": [
    "# display only the odd values of the list \n",
    "for i in l:\n",
    "    if i%2 != 0:\n",
    "        print(i, end = ',')"
   ]
  },
  {
   "cell_type": "code",
   "execution_count": 46,
   "id": "437e1ac7-45e4-483f-8ba2-1796168c36af",
   "metadata": {},
   "outputs": [
    {
     "name": "stdout",
     "output_type": "stream",
     "text": [
      "20,45,78,65,72,21,36,50,33,8,"
     ]
    }
   ],
   "source": [
    "# display the values at odd indexes \n",
    "for i in range(len(l)):\n",
    "    if i%2 != 0:\n",
    "        print(l[i], end = ',')"
   ]
  },
  {
   "cell_type": "code",
   "execution_count": 47,
   "id": "93317040-7324-4408-8a76-b5e6b0047063",
   "metadata": {},
   "outputs": [
    {
     "name": "stdout",
     "output_type": "stream",
     "text": [
      "20,45,78,65,78,72,21,36,50,33,8,"
     ]
    }
   ],
   "source": [
    "for i in l :\n",
    "    if l.index(i)%2 != 0:                          # using index()\n",
    "        print(i, end = ',')"
   ]
  },
  {
   "cell_type": "code",
   "execution_count": 48,
   "id": "f28ff6a7-dc7f-4c27-af30-0d8bf60a3372",
   "metadata": {},
   "outputs": [],
   "source": [
    "#Q3\n",
    "l = [15, 20, 23, 45, 60, 78, 91, 65, 78, 72, 60, 21, 35, 36, 40, 50, 88, 33, 11, 8, 4]"
   ]
  },
  {
   "cell_type": "code",
   "execution_count": 49,
   "id": "578c0ad4-a614-4dd4-b083-029fbdd9833a",
   "metadata": {},
   "outputs": [
    {
     "name": "stdout",
     "output_type": "stream",
     "text": [
      "[20, 60, 78, 78, 72, 60, 36, 40, 50, 88, 8, 4]\n"
     ]
    }
   ],
   "source": [
    "# store the even values from the list in a new list \n",
    "even = []\n",
    "for i in l :\n",
    "    if i % 2 == 0:\n",
    "        even.append(i)\n",
    "print(even)"
   ]
  },
  {
   "cell_type": "code",
   "execution_count": 50,
   "id": "51e9951e-1583-449b-8941-78705aecf865",
   "metadata": {},
   "outputs": [
    {
     "name": "stdout",
     "output_type": "stream",
     "text": [
      "[15, 23, 60, 91, 78, 60, 35, 40, 88, 11, 4]\n"
     ]
    }
   ],
   "source": [
    "# store the values at the even indexes into a new list \n",
    "even = []\n",
    "for i in range(len(l)):\n",
    "    if i % 2 == 0:\n",
    "        even.append(l[i])\n",
    "print(even)"
   ]
  },
  {
   "cell_type": "code",
   "execution_count": 51,
   "id": "163cdfbf-4171-47e5-bbe0-9704b8404013",
   "metadata": {},
   "outputs": [
    {
     "name": "stdout",
     "output_type": "stream",
     "text": [
      "[15, 23, 60, 91, 60, 35, 40, 88, 11, 4]\n"
     ]
    }
   ],
   "source": [
    "even = []\n",
    "for i in l:\n",
    "    if l.index(i) % 2 == 0:                              # using index()\n",
    "        even.append(i)\n",
    "print(even)"
   ]
  },
  {
   "cell_type": "code",
   "execution_count": null,
   "id": "7b587bc3-b6ba-49c0-bbc9-ed30577c1508",
   "metadata": {},
   "outputs": [],
   "source": []
  },
  {
   "cell_type": "code",
   "execution_count": 52,
   "id": "0a9db6c4-5022-4cc7-978c-89def6d68fe6",
   "metadata": {},
   "outputs": [
    {
     "name": "stdout",
     "output_type": "stream",
     "text": [
      "[120, 160, 178, 178, 172, 160, 136, 140, 150, 188, 108, 104]\n",
      "[1500, 2300, 4500, 9100, 6500, 2100, 3500, 3300, 1100]\n"
     ]
    }
   ],
   "source": [
    "#Q4 store the even values from the list in a new list after adding 100 to each value \n",
    "# store the odd values from the list in a new list after multiplying 100 to each value \n",
    "\n",
    "l = [15, 20, 23, 45, 60, 78, 91, 65, 78, 72, 60, 21, 35, 36, 40, 50, 88, 33, 11, 8, 4]\n",
    "even =[]\n",
    "odd =[]\n",
    "for i in l:\n",
    "    if i % 2 == 0:\n",
    "        even.append(i+100)\n",
    "    else:\n",
    "        odd.append(i*100)\n",
    "print(even)\n",
    "print(odd)"
   ]
  },
  {
   "cell_type": "code",
   "execution_count": null,
   "id": "45afc171-ed64-4575-8805-1c8693a32964",
   "metadata": {},
   "outputs": [],
   "source": []
  },
  {
   "cell_type": "code",
   "execution_count": 53,
   "id": "ae50b0d1-60d8-4143-a32a-1a36987bdf0a",
   "metadata": {},
   "outputs": [
    {
     "name": "stdout",
     "output_type": "stream",
     "text": [
      "['Gayathri', 'Sankar', 'Dhanshree', 'Vepasa', 'Jahanvi', 'Vishnu', 'Manasa']\n",
      "['Akash', 'Ritu', 'Ritik', 'Radha', 'Venky', 'Jyoti', 'Ritu']\n"
     ]
    }
   ],
   "source": [
    "#Q5 store names whose length is less than 5 in five_l otherwise store them in five_m\n",
    "names = ['Gayathri', 'Akash', 'Ritu', 'Ritik', 'Radha', 'Sankar', 'Venky', 'Jyoti', 'Dhanshree', 'Vepasa', 'Jahanvi', 'Vishnu', 'Manasa', 'Ritu']\n",
    "five_l = []\n",
    "five_m = []\n",
    "for i in names:\n",
    "    if len(i) > 5 :\n",
    "        five_m.append(i)\n",
    "    else:\n",
    "        five_l.append(i)\n",
    "print(five_m)\n",
    "print(five_l)"
   ]
  },
  {
   "cell_type": "code",
   "execution_count": null,
   "id": "873ad38e-9c65-4f8c-bf72-8355f512faa7",
   "metadata": {},
   "outputs": [],
   "source": []
  },
  {
   "cell_type": "code",
   "execution_count": 54,
   "id": "2563ed4f-9a9d-4381-9262-1b89b7e20b27",
   "metadata": {},
   "outputs": [
    {
     "name": "stdout",
     "output_type": "stream",
     "text": [
      "['TCS_234', 'TCS_2342', 'TCS_24']\n",
      "['HCL_2345', 'HCL_245', 'HCL_23']\n",
      "['COG_321', 'COG_3221', 'COG_32']\n",
      "['IBM_3113', 'IBM_1213', 'IBM_13']\n"
     ]
    }
   ],
   "source": [
    "#Q6 Store the employees in their respective companies lists TCS, HCL , Cognizant and IBM according to their employee_id.\n",
    "Employees = ['TCS_234','HCL_2345','COG_321','IBM_3113','TCS_2342','HCL_245','COG_3221','IBM_1213','TCS_24','HCL_23','COG_32','IBM_13']\n",
    "TCS = []\n",
    "HCL = []\n",
    "COG = []\n",
    "IBM = []\n",
    "for i in Employees:\n",
    "    if i.startswith('TCS'):\n",
    "        TCS.append(i)\n",
    "    elif i.startswith('HCL'):\n",
    "        HCL.append(i)\n",
    "    elif i.startswith('COG'):\n",
    "        COG.append(i)\n",
    "    elif i.startswith('IBM'):\n",
    "        IBM.append(i)\n",
    "else:\n",
    "    pass\n",
    "\n",
    "print(TCS)\n",
    "print(HCL)\n",
    "print(COG)\n",
    "print(IBM)"
   ]
  },
  {
   "cell_type": "code",
   "execution_count": null,
   "id": "199227fb-efc9-4448-80b7-2fd80d3b15bb",
   "metadata": {},
   "outputs": [],
   "source": []
  },
  {
   "cell_type": "code",
   "execution_count": 55,
   "id": "641bf111-f15a-4afa-9f2a-0c8d2275d0b1",
   "metadata": {},
   "outputs": [
    {
     "name": "stdout",
     "output_type": "stream",
     "text": [
      "[337.5, 472.5, 682.5, 907.5, 487.5, 742.5]\n",
      "[210, 350, 230, 90, 50, 170, 250, 270]\n"
     ]
    }
   ],
   "source": [
    "#Q7 Store only the ODD values of the data in new lists such that: \n",
    "# if the value is less than 40, then store it in a list name \"value_l\" after multiply each value by 10.\n",
    "# and if the value is more than or equal to 40, store it in \"value_m\" after multiplying each value by 7.5.\n",
    "data = [12,45,63,91,121,10,110,18,21,35,40,65,99,104,23,46,788,9,5,17,25,32,6,66,88,27]\n",
    "value_m = []\n",
    "value_l = []\n",
    "for i in data:\n",
    "    if i%2 != 0 and i >= 40:\n",
    "        value_m.append(i*7.5)\n",
    "    elif i%2 != 0 and i < 40:\n",
    "        value_l.append(i*10)\n",
    "print(value_m)\n",
    "print(value_l)"
   ]
  },
  {
   "cell_type": "code",
   "execution_count": null,
   "id": "8f973985-c68d-420c-82ee-eff831113ff9",
   "metadata": {},
   "outputs": [],
   "source": []
  },
  {
   "cell_type": "markdown",
   "id": "a8c98383-c030-457c-8289-6661162d097d",
   "metadata": {},
   "source": [
    "# NESTED LIST INDEXING "
   ]
  },
  {
   "cell_type": "code",
   "execution_count": 61,
   "id": "f0d257f8-d7bf-40cc-8e80-802f6b943690",
   "metadata": {},
   "outputs": [],
   "source": [
    "#Q8 \n",
    "inp = [10, 20, [30, 50, [60, 70,], 90], 100, 120]\n",
    "#out = [10,20,[30,40,50,[60,70,80],90]100,110,120]"
   ]
  },
  {
   "cell_type": "code",
   "execution_count": 62,
   "id": "c5051615-1ab3-4c71-bb49-eae2ceb19ef2",
   "metadata": {},
   "outputs": [
    {
     "name": "stdout",
     "output_type": "stream",
     "text": [
      "[10, 20, [30, 40, 50, [60, 70], 90], 100, 120]\n"
     ]
    }
   ],
   "source": [
    "inp[2].insert(1,40)\n",
    "print(inp)"
   ]
  },
  {
   "cell_type": "code",
   "execution_count": null,
   "id": "a4360a7b-8946-40d9-b140-8641443cdcfa",
   "metadata": {},
   "outputs": [],
   "source": [
    "#inp[2][2].insert(2,80)\n",
    "#print(inp"
   ]
  },
  {
   "cell_type": "code",
   "execution_count": 63,
   "id": "91858202-0d3b-44eb-aca4-655ddf1f9394",
   "metadata": {},
   "outputs": [
    {
     "name": "stdout",
     "output_type": "stream",
     "text": [
      "[10, 20, [30, 40, 50, [60, 70], 90], 100, 110, 120]\n"
     ]
    }
   ],
   "source": [
    "inp.insert(4,110)\n",
    "print(inp)"
   ]
  },
  {
   "cell_type": "code",
   "execution_count": null,
   "id": "765348d5-fd27-457c-bccf-83c2aca8ff0c",
   "metadata": {},
   "outputs": [],
   "source": []
  },
  {
   "cell_type": "markdown",
   "id": "bc2ef49c-152b-4e60-8e0c-3b819e4921b3",
   "metadata": {},
   "source": [
    "# ZIP()"
   ]
  },
  {
   "cell_type": "code",
   "execution_count": 65,
   "id": "e5373e33-ac1f-43e8-a58e-eed66e4312ed",
   "metadata": {},
   "outputs": [
    {
     "name": "stdout",
     "output_type": "stream",
     "text": [
      "245 248 Australia won by 3 runs.\n",
      "312 278 India won by 34 runs.\n",
      "308 312 Australia won by 4 runs.\n",
      "287 280 India won by 7 runs.\n",
      "266 265 India won by 1 runs.\n",
      "290 310 Australia won by 20 runs.\n",
      "300 296 India won by 4 runs.\n"
     ]
    }
   ],
   "source": [
    "#Q9 zip() function: it zips the elements of the two lists   Running two loops simulataneously\n",
    "India = [245, 312, 308, 287, 266, 290, 300]\n",
    "Australia = [248, 278, 312, 280, 265, 310, 296]\n",
    "for i,j in zip(India, Australia):\n",
    "    if i>j:\n",
    "        print (i,j,\"India won by\", abs(i-j),\"runs.\")\n",
    "    else:\n",
    "        print(i,j,\"Australia won by\", abs(j-i),\"runs.\")"
   ]
  },
  {
   "cell_type": "code",
   "execution_count": null,
   "id": "5ed61e6c-1416-47c0-8370-ec22bd7ed7ca",
   "metadata": {},
   "outputs": [],
   "source": []
  },
  {
   "cell_type": "markdown",
   "id": "86237ea5-a043-49ca-9366-61332b646276",
   "metadata": {},
   "source": [
    "# TERNARY OPERATOR  "
   ]
  },
  {
   "cell_type": "code",
   "execution_count": 66,
   "id": "50f7d2ba-47b3-4917-8a1e-af21276bbec6",
   "metadata": {},
   "outputs": [
    {
     "name": "stdout",
     "output_type": "stream",
     "text": [
      "[120, 100, 825.0, 180, 300.0, 780.0, 345.0, 5910.0, 320, 60, 495.0, 660.0]\n"
     ]
    }
   ],
   "source": [
    "#Q10 Store only the ODD values of the data in new lists such that: \n",
    "# if the value is less than 40, then store it in a list name \"value_l\" after multiply each value by 10.\n",
    "# and if the value is more than or equal to 40, store it in \"value_m\" after multiplying each value by 7.5.\n",
    "data = [12,45,63,91,121,10,110,18,21,35,40,65,99,104,23,46,788,9,5,17,25,32,6,66,88,27]\n",
    "result = [(i*10) if (i < 40) else (i*7.5) for i in data if i % 2 ==0]\n",
    "print(result)\n"
   ]
  },
  {
   "cell_type": "code",
   "execution_count": null,
   "id": "4295fce3-2700-4e14-8dc4-98fff0f18381",
   "metadata": {},
   "outputs": [],
   "source": []
  },
  {
   "cell_type": "markdown",
   "id": "43ef6ced-60b4-4787-8756-9da57a31db4a",
   "metadata": {},
   "source": [
    "# LIST COMPREHENSIONS"
   ]
  },
  {
   "cell_type": "code",
   "execution_count": 67,
   "id": "083347fc-6135-4ae3-ba5e-85a73466a8f3",
   "metadata": {},
   "outputs": [
    {
     "data": {
      "text/plain": [
       "['Ritu', 'Ritik', 'Radha', 'Ritu']"
      ]
     },
     "execution_count": 67,
     "metadata": {},
     "output_type": "execute_result"
    }
   ],
   "source": [
    "#Q11 store the names starting with R\n",
    "names = ['Gayathri', 'Akash', 'Ritu', 'Ritik', 'Radha', 'Sankar', 'Venky', 'Jyoti', 'Dhanshree', 'Vepasa', 'Jahanvi', 'Vishnu', 'Manasa', 'Ritu']\n",
    "list_r = [i for i in names if i.startswith(\"R\")]\n",
    "list_r"
   ]
  },
  {
   "cell_type": "code",
   "execution_count": null,
   "id": "f879b345-1f16-46b2-9b2f-4a200a4250ec",
   "metadata": {},
   "outputs": [],
   "source": []
  },
  {
   "cell_type": "code",
   "execution_count": 68,
   "id": "a4167228-5ea8-42e1-8bad-564a631ca40a",
   "metadata": {},
   "outputs": [
    {
     "name": "stdout",
     "output_type": "stream",
     "text": [
      "[23400.0, 45000, 6000, 67000, 8000, 90000, 32000, 67000, 45000, 7000, 35000, 51000, 60000, 2000, 50000, 5000]\n"
     ]
    }
   ],
   "source": [
    "#Q12 update the salary list in correct format eg: 40 --> 40000\n",
    "salary = [23.4, 45, 6,67,8,90,32,67,45,7,35,51,60,2,50,5]\n",
    "update_salary = [(i*1000) for i in salary]\n",
    "print(update_salary)"
   ]
  },
  {
   "cell_type": "code",
   "execution_count": null,
   "id": "c1c2f928-f5de-4ddb-8637-1579cce3fd44",
   "metadata": {},
   "outputs": [],
   "source": []
  },
  {
   "cell_type": "code",
   "execution_count": 69,
   "id": "abd9b71f-7d4a-4afb-a126-185b7457a7ab",
   "metadata": {},
   "outputs": [
    {
     "name": "stdout",
     "output_type": "stream",
     "text": [
      "[120, 160, 178, 178, 172, 160, 136, 140, 150, 188, 108, 104]\n",
      "[1500, 2300, 4500, 9100, 6500, 2100, 3500, 3300, 1100]\n"
     ]
    }
   ],
   "source": [
    "#Q13 store the even values from the list in a new list after adding 100 to each value \n",
    "# store the odd values from the list in a new list after multiplying 100 to each value\n",
    "l = [15, 20, 23, 45, 60, 78, 91, 65, 78, 72, 60, 21, 35, 36, 40, 50, 88, 33, 11, 8, 4]\n",
    "even = [(i+100) for i in l if i%2 == 0]\n",
    "odd = [(i*100) for i in l if i%2 != 0]\n",
    "print(even)\n",
    "print(odd)"
   ]
  },
  {
   "cell_type": "code",
   "execution_count": null,
   "id": "b9e18345-0aa7-47ef-b4c3-608a083a9e9a",
   "metadata": {},
   "outputs": [],
   "source": []
  },
  {
   "cell_type": "code",
   "execution_count": 70,
   "id": "b5f8071c-af38-4622-9893-33e40475fb61",
   "metadata": {},
   "outputs": [
    {
     "name": "stdout",
     "output_type": "stream",
     "text": [
      "2  12, 10, 110, 18, 40\n",
      "3  12, 45, 63, 18, 21, 99\n",
      "5  45, 10, 110, 35, 40, 65\n",
      "7  63, 91, 21, 35\n",
      "11  121, 110, 99\n"
     ]
    }
   ],
   "source": [
    "#Q14 Define the lists\n",
    "l1 = [2, 3, 5, 7, 11]\n",
    "l2 = [12, 45, 63, 91, 121, 10, 110, 18, 21, 35, 40, 65, 99]\n",
    "\n",
    "# Find multiples using zip and list comprehension\n",
    "for j in l1:\n",
    "    multiples = [i for i in l2 if i % j == 0]\n",
    "    print(f\"{j}  {', '.join(map(str, multiples))}\")\n"
   ]
  },
  {
   "cell_type": "code",
   "execution_count": null,
   "id": "db05582a-0d5b-42a0-8675-ae075cc684de",
   "metadata": {},
   "outputs": [],
   "source": []
  },
  {
   "cell_type": "markdown",
   "id": "d859f03d-0c0e-4bab-a853-a7e2fe9829a4",
   "metadata": {},
   "source": [
    "# **SETS**"
   ]
  },
  {
   "cell_type": "code",
   "execution_count": 71,
   "id": "bc9b5b2b-f120-45a3-9026-60105157ba4c",
   "metadata": {},
   "outputs": [
    {
     "data": {
      "text/plain": [
       "{2, 5, 8, 11, 14, 17, 20}"
      ]
     },
     "execution_count": 71,
     "metadata": {},
     "output_type": "execute_result"
    }
   ],
   "source": [
    "#Q1\n",
    "s = set(range(2,21,3))\n",
    "s"
   ]
  },
  {
   "cell_type": "code",
   "execution_count": 72,
   "id": "1e90a366-3f5d-4437-9493-32e014dff8a1",
   "metadata": {},
   "outputs": [
    {
     "data": {
      "text/plain": [
       "{2, 5, 8, 11, 14, 17, 20, 56}"
      ]
     },
     "execution_count": 72,
     "metadata": {},
     "output_type": "execute_result"
    }
   ],
   "source": [
    "s.add(56)\n",
    "s"
   ]
  },
  {
   "cell_type": "code",
   "execution_count": 73,
   "id": "f222bf2d-8792-45db-b9e6-ce601c7d4374",
   "metadata": {},
   "outputs": [
    {
     "data": {
      "text/plain": [
       "{2, 5, 8, 11, 14, 17, 20}"
      ]
     },
     "execution_count": 73,
     "metadata": {},
     "output_type": "execute_result"
    }
   ],
   "source": [
    "s.remove(56)\n",
    "s"
   ]
  },
  {
   "cell_type": "code",
   "execution_count": 74,
   "id": "00b69142-3544-4779-b6c6-fb5eceacd38a",
   "metadata": {},
   "outputs": [
    {
     "data": {
      "text/plain": [
       "2"
      ]
     },
     "execution_count": 74,
     "metadata": {},
     "output_type": "execute_result"
    }
   ],
   "source": [
    "s.pop()"
   ]
  },
  {
   "cell_type": "code",
   "execution_count": 75,
   "id": "da778dd6-53a5-41ec-929f-d36122fcb698",
   "metadata": {},
   "outputs": [
    {
     "data": {
      "text/plain": [
       "{5, 8, 11, 14, 17, 20}"
      ]
     },
     "execution_count": 75,
     "metadata": {},
     "output_type": "execute_result"
    }
   ],
   "source": [
    "s.discard(45)\n",
    "s"
   ]
  },
  {
   "cell_type": "code",
   "execution_count": null,
   "id": "54bbb6d5-c581-4414-b6cd-1900bb0325dc",
   "metadata": {},
   "outputs": [],
   "source": []
  },
  {
   "cell_type": "code",
   "execution_count": 76,
   "id": "7a69ef1f-7ac8-4543-a6a3-d7d0187427dd",
   "metadata": {},
   "outputs": [],
   "source": [
    "#Q2 Sort the list and eliminate the duplicates\n",
    "l = [\"Delhi\",\"Mumbai\",\"Chennai\",\"Bangaluru\",\"Delhi\",\"Mumbai\",\"Chennai\",\"Bangaluru\",\"Delhi\",\"Mumbai\",\"Chennai\",\"Bangaluru\"]"
   ]
  },
  {
   "cell_type": "code",
   "execution_count": 77,
   "id": "5b1c2164-b7db-43a6-bd51-e49b0fa63878",
   "metadata": {},
   "outputs": [
    {
     "name": "stdout",
     "output_type": "stream",
     "text": [
      "['Bangaluru', 'Bangaluru', 'Bangaluru', 'Chennai', 'Chennai', 'Chennai', 'Delhi', 'Delhi', 'Delhi', 'Mumbai', 'Mumbai', 'Mumbai']\n"
     ]
    }
   ],
   "source": [
    "l.sort()\n",
    "print(l)"
   ]
  },
  {
   "cell_type": "code",
   "execution_count": 78,
   "id": "d0bb193c-aac1-4685-a4fa-a642a2f34979",
   "metadata": {},
   "outputs": [
    {
     "data": {
      "text/plain": [
       "{'Bangaluru', 'Chennai', 'Delhi', 'Mumbai'}"
      ]
     },
     "execution_count": 78,
     "metadata": {},
     "output_type": "execute_result"
    }
   ],
   "source": [
    "s = set(l)\n",
    "s"
   ]
  },
  {
   "cell_type": "code",
   "execution_count": null,
   "id": "87a0944f-eef2-40cd-a3b4-a87624c9c17f",
   "metadata": {},
   "outputs": [],
   "source": []
  },
  {
   "cell_type": "code",
   "execution_count": 79,
   "id": "8a40405a-8b8d-4e3e-ad36-e08becbc81aa",
   "metadata": {},
   "outputs": [],
   "source": [
    "s_1 = list(range(2,43,4))\n",
    "s1 = set(s_1)"
   ]
  },
  {
   "cell_type": "code",
   "execution_count": 80,
   "id": "f0674f4e-3b16-4d09-bd67-21a412e60ef6",
   "metadata": {},
   "outputs": [],
   "source": [
    "s_2 = list(range(6,43,6))\n",
    "s2 = set(s_2)"
   ]
  },
  {
   "cell_type": "code",
   "execution_count": 81,
   "id": "01072ab2-d5b9-4099-981b-c3b8771f4b28",
   "metadata": {},
   "outputs": [
    {
     "data": {
      "text/plain": [
       "{6, 18, 30, 42}"
      ]
     },
     "execution_count": 81,
     "metadata": {},
     "output_type": "execute_result"
    }
   ],
   "source": [
    "# intersection \n",
    "s1.intersection(s2)"
   ]
  },
  {
   "cell_type": "code",
   "execution_count": 82,
   "id": "f81bb89d-4c38-4d27-8130-b98ddc01d3cf",
   "metadata": {},
   "outputs": [
    {
     "data": {
      "text/plain": [
       "{2, 6, 10, 12, 14, 18, 22, 24, 26, 30, 34, 36, 38, 42}"
      ]
     },
     "execution_count": 82,
     "metadata": {},
     "output_type": "execute_result"
    }
   ],
   "source": [
    "# union\n",
    "s1.union(s2)"
   ]
  },
  {
   "cell_type": "code",
   "execution_count": 83,
   "id": "dcd9b4a1-cf01-4a1e-936e-38b862e5683a",
   "metadata": {},
   "outputs": [
    {
     "data": {
      "text/plain": [
       "{2, 10, 14, 22, 26, 34, 38}"
      ]
     },
     "execution_count": 83,
     "metadata": {},
     "output_type": "execute_result"
    }
   ],
   "source": [
    "s1.difference(s2)                # s1-s2"
   ]
  },
  {
   "cell_type": "code",
   "execution_count": 84,
   "id": "42e90567-d157-4d44-8ea6-4132fa8679ed",
   "metadata": {},
   "outputs": [
    {
     "data": {
      "text/plain": [
       "{12, 24, 36}"
      ]
     },
     "execution_count": 84,
     "metadata": {},
     "output_type": "execute_result"
    }
   ],
   "source": [
    "s2.difference(s1)                # s2-s1"
   ]
  },
  {
   "cell_type": "code",
   "execution_count": 85,
   "id": "c28955c4-acda-467e-9451-28cf183cd3df",
   "metadata": {},
   "outputs": [
    {
     "data": {
      "text/plain": [
       "{2, 10, 12, 14, 22, 24, 26, 34, 36, 38}"
      ]
     },
     "execution_count": 85,
     "metadata": {},
     "output_type": "execute_result"
    }
   ],
   "source": [
    "s1.symmetric_difference(s2)     # (s1 union s2) - (s1 intersection s2)"
   ]
  },
  {
   "cell_type": "code",
   "execution_count": null,
   "id": "5dd14003-c750-42f6-b4a3-090196e52a7d",
   "metadata": {},
   "outputs": [],
   "source": []
  },
  {
   "cell_type": "markdown",
   "id": "83de02e0-a5e3-425c-a635-c0daa85ba964",
   "metadata": {},
   "source": [
    "# LOOPING ON SETS "
   ]
  },
  {
   "cell_type": "code",
   "execution_count": 86,
   "id": "8d4c1413-826a-4ea5-8caa-43afd37283d9",
   "metadata": {},
   "outputs": [],
   "source": [
    "#Q4 compare the string of both lists and display only those string which have more no of characters \n",
    "# Compare the strings\n",
    "#morning = [\"Akash\", \"Himanshu\", \"Kajol\", \"Gaya\", \"Shiny\", \"Bilal\", \"Swagath\", \"Dhivya\", \"soleh\", \"Vijaykumar\",\"Jyothi\"]\n",
    "#evening = [\"Surya\", \"Venky\", \"Ritu\", \"Sankar\", \"Jyoti\", \"Vepasa\", \"Zahid\", \"Manasa\", \"Vishnu\", \"Aakash\", \"Avichal\"]"
   ]
  },
  {
   "cell_type": "code",
   "execution_count": 87,
   "id": "b9abd84b-9cc3-406e-a443-8fb362547a38",
   "metadata": {},
   "outputs": [
    {
     "name": "stdout",
     "output_type": "stream",
     "text": [
      "['Himanshu', 'Kajol', 'Sankar', 'Vepasa', 'Swagath', 'Mohammed soleh', 'Vijaykumar', 'Avichal']\n"
     ]
    }
   ],
   "source": [
    "evening = [\"Surya\", \"venky\", \"Ritu\", \"Sankar\", \"Jyoti\", \"Vepasa\", \"Zahid\", \"Manasa\", \"Vishnu\", \"Aakash\", \"Avichal\"]\n",
    "morning = [\"Akash\", \"Himanshu\", \"Kajol\", \"Gaya\", \"Shiny\", \"Bilal\", \"Swagath\", \"Dhivya\", \"Mohammed soleh\", \"Vijaykumar\", \"Jyothi\"]\n",
    "\n",
    "winner_1 = []\n",
    "\n",
    "for mor_name, eve_name in zip(morning, evening):\n",
    "    if len(mor_name) > len(eve_name):\n",
    "        winner_1.append(mor_name)\n",
    "    elif len(eve_name) > len(mor_name):\n",
    "        winner_1.append(eve_name)\n",
    "\n",
    "print(winner_1)"
   ]
  },
  {
   "cell_type": "code",
   "execution_count": 88,
   "id": "f70fab20-2c0d-465c-9562-607959619bdc",
   "metadata": {},
   "outputs": [
    {
     "name": "stdout",
     "output_type": "stream",
     "text": [
      "['Surya', 'venky', 'Ritu', 'Sankar', 'Shiny', 'Vepasa', 'Zahid', 'Manasa', 'Vishnu', 'Vijaykumar', 'Jyothi']\n"
     ]
    }
   ],
   "source": [
    "evening = [\"Surya\", \"venky\", \"Ritu\", \"Sankar\", \"Jyoti\", \"Vepasa\", \"Zahid\", \"Manasa\", \"Vishnu\", \"Aakash\", \"Avichal\"]\n",
    "morning = [\"Akash\", \"Himanshu\", \"Kajol\", \"Gaya\", \"Shiny\", \"Bilal\", \"Swagath\", \"Dhivya\", \"Mohammed soleh\", \"Vijaykumar\", \"Jyothi\"]\n",
    "\n",
    "winner_2 = []\n",
    "\n",
    "for mor_name, eve_name in zip(morning, evening):\n",
    "    if mor_name > eve_name:\n",
    "        winner_2.append(mor_name)\n",
    "    else:\n",
    "        winner_2.append(eve_name)\n",
    "\n",
    "print(winner_2)"
   ]
  },
  {
   "cell_type": "code",
   "execution_count": 89,
   "id": "83a9fea3-0131-49d9-bb76-faf698a63114",
   "metadata": {},
   "outputs": [],
   "source": [
    "winner1 = set(winner_1)\n",
    "winner2 = set(winner_2)"
   ]
  },
  {
   "cell_type": "code",
   "execution_count": 90,
   "id": "7d58e7fe-c614-4904-9e3b-f9d71df3173e",
   "metadata": {},
   "outputs": [
    {
     "name": "stdout",
     "output_type": "stream",
     "text": [
      "{'Vishnu', 'Mohammed soleh', 'venky', 'Himanshu', 'Kajol', 'Avichal', 'Swagath', 'Manasa', 'Shiny', 'Ritu', 'Surya', 'Jyothi', 'Zahid'}\n"
     ]
    }
   ],
   "source": [
    "res = (winner1.symmetric_difference(winner2))\n",
    "print(res)"
   ]
  },
  {
   "cell_type": "code",
   "execution_count": null,
   "id": "876927a5-184a-44b6-bcec-8b71931cd0a2",
   "metadata": {},
   "outputs": [],
   "source": []
  },
  {
   "cell_type": "markdown",
   "id": "0ce9638a-07e2-4511-99dc-c37991897a5f",
   "metadata": {},
   "source": [
    "# SET COMPREHENSION"
   ]
  },
  {
   "cell_type": "code",
   "execution_count": 91,
   "id": "5423e550-349b-4dad-a0f7-d8b114cf34be",
   "metadata": {},
   "outputs": [
    {
     "name": "stdout",
     "output_type": "stream",
     "text": [
      "{64, 100, 4, 36, 16}\n"
     ]
    }
   ],
   "source": [
    "#Q5 square the even numbers\n",
    "num = [1,2,3,4,5,6,7,8,9,10]\n",
    "even_squares = {x ** 2 for x in num if x % 2 == 0}\n",
    "print(even_squares)"
   ]
  },
  {
   "cell_type": "code",
   "execution_count": 92,
   "id": "e6442340-e12b-444f-99c2-3b2487b45781",
   "metadata": {},
   "outputs": [
    {
     "name": "stdout",
     "output_type": "stream",
     "text": [
      "{1, 9, 81, 49, 25}\n"
     ]
    }
   ],
   "source": [
    "# square the odd numbers\n",
    "num = [1,2,3,4,5,6,7,8,9,10]\n",
    "odd_squares = {x ** 2 for x in num if x % 2 != 0}\n",
    "print(odd_squares)"
   ]
  },
  {
   "cell_type": "code",
   "execution_count": null,
   "id": "0ed328d1-5894-48bc-8810-42f7128cbb51",
   "metadata": {},
   "outputs": [],
   "source": []
  },
  {
   "cell_type": "markdown",
   "id": "a267583b-6202-46b0-b1fd-f800f4392531",
   "metadata": {},
   "source": [
    "# **DICTIONARIES**"
   ]
  },
  {
   "cell_type": "code",
   "execution_count": 93,
   "id": "33f29eff-81d5-416d-a714-70daa91e1740",
   "metadata": {},
   "outputs": [],
   "source": [
    "d1 = {'A': 'Ankitha', 'B':'Bilal', 'C':'Chetan', 'D':'Dhivya'}"
   ]
  },
  {
   "cell_type": "code",
   "execution_count": 94,
   "id": "765a0411-e5c2-4572-9131-ef3bf22e8748",
   "metadata": {},
   "outputs": [
    {
     "data": {
      "text/plain": [
       "dict_keys(['A', 'B', 'C', 'D'])"
      ]
     },
     "execution_count": 94,
     "metadata": {},
     "output_type": "execute_result"
    }
   ],
   "source": [
    "d1.keys()"
   ]
  },
  {
   "cell_type": "code",
   "execution_count": 95,
   "id": "fa6fce6f-99fe-4492-9ead-52eccdb55e04",
   "metadata": {},
   "outputs": [
    {
     "data": {
      "text/plain": [
       "dict_values(['Ankitha', 'Bilal', 'Chetan', 'Dhivya'])"
      ]
     },
     "execution_count": 95,
     "metadata": {},
     "output_type": "execute_result"
    }
   ],
   "source": [
    "d1.values()"
   ]
  },
  {
   "cell_type": "code",
   "execution_count": 96,
   "id": "ebfc2536-5a89-46ea-a1aa-21e7f7925270",
   "metadata": {},
   "outputs": [
    {
     "data": {
      "text/plain": [
       "dict_items([('A', 'Ankitha'), ('B', 'Bilal'), ('C', 'Chetan'), ('D', 'Dhivya')])"
      ]
     },
     "execution_count": 96,
     "metadata": {},
     "output_type": "execute_result"
    }
   ],
   "source": [
    "d1.items()"
   ]
  },
  {
   "cell_type": "code",
   "execution_count": null,
   "id": "62fe68de-8eb6-4e88-9fa7-8a1556825b74",
   "metadata": {},
   "outputs": [],
   "source": []
  },
  {
   "cell_type": "code",
   "execution_count": 97,
   "id": "63fcc647-fd4f-4cb8-9e71-11ddfb74cc2e",
   "metadata": {},
   "outputs": [
    {
     "data": {
      "text/plain": [
       "{'a': 100, 'Python': 500, 'Json': 5000, 'Zahid': 3000}"
      ]
     },
     "execution_count": 97,
     "metadata": {},
     "output_type": "execute_result"
    }
   ],
   "source": [
    "#Q1 if the key is same, the new value will overwrite the old value\n",
    "d2 = {'a': 100, 'Python': 200, 'Json': 5000,'Zahid': 3000, 'Python':500 }\n",
    "d2"
   ]
  },
  {
   "cell_type": "code",
   "execution_count": 98,
   "id": "18523410-475a-4c1b-b8d2-dba3edb3ee0c",
   "metadata": {},
   "outputs": [
    {
     "name": "stdout",
     "output_type": "stream",
     "text": [
      "{'jyoti': 33000, 's': 'Surya', 1: 'Gayathri', 800: 'Venky', False: 11, 'cricket': 'World Cup'}\n"
     ]
    }
   ],
   "source": [
    "#Q2 Technical Interview question\n",
    "d3 = {'jyoti': 33000,'s': 'Surya',1 : 'Dhanshree', 800 : 'Venky',False : 200,'cricket':'World Cup',0:11, True:'Gayathri'}\n",
    "print(d3)"
   ]
  },
  {
   "cell_type": "code",
   "execution_count": null,
   "id": "af51892d-2dfb-46ea-bf4a-8a429daba4a7",
   "metadata": {},
   "outputs": [],
   "source": []
  },
  {
   "cell_type": "markdown",
   "id": "ddab7749-51d8-4d84-b191-b7fddc0f2fc9",
   "metadata": {},
   "source": [
    "# LOOPING ON DICTIONARY "
   ]
  },
  {
   "cell_type": "code",
   "execution_count": 99,
   "id": "0fb93701-11cf-4eb2-a0a2-675927f708ce",
   "metadata": {},
   "outputs": [
    {
     "name": "stdout",
     "output_type": "stream",
     "text": [
      "Rahul\n",
      "Lalita\n",
      "Priyank\n",
      "Naveen\n",
      "Fatima\n",
      "Nagarjuna\n"
     ]
    }
   ],
   "source": [
    "#Q4 get the names of emp where salary is greater than 40000\n",
    "emp = ['Sachin','Rahul','Lalita','Priyanka','Harshit','Priyank','Naveen','Fatima','Nagarjuna'] \n",
    "sal = [34000,45000,50000,30000,28000,45000,55000,70000,60000] \n",
    "emp_info = dict(zip(emp,sal))\n",
    "for i in emp_info.keys():\n",
    "    if emp_info[i] >= 40000:\n",
    "        print(i)"
   ]
  },
  {
   "cell_type": "code",
   "execution_count": null,
   "id": "bf85d513-f1da-4405-a553-5e38b816e834",
   "metadata": {},
   "outputs": [],
   "source": []
  },
  {
   "cell_type": "markdown",
   "id": "0f2a3212-f46e-40e7-bdb6-bf8bf048d955",
   "metadata": {},
   "source": [
    "# DICTIONARY INDEXING "
   ]
  },
  {
   "cell_type": "code",
   "execution_count": 100,
   "id": "e0ca133a-0f8d-4ce7-8d2b-60e011950645",
   "metadata": {},
   "outputs": [],
   "source": [
    "#Q5 indexing in dictionary\n",
    "state_ipl_team = {'UP':'LSG','Kerela':'Kochi tuskers','Gujarat':'Gujarat Lions','Chennai':'CSK','Bangalore':'RCB','West Bengal':'PBKS','Bombay':'MI'}"
   ]
  },
  {
   "cell_type": "code",
   "execution_count": 101,
   "id": "102b3ba0-4711-44ae-8699-6a401f7cfffb",
   "metadata": {},
   "outputs": [
    {
     "data": {
      "text/plain": [
       "'CSK'"
      ]
     },
     "execution_count": 101,
     "metadata": {},
     "output_type": "execute_result"
    }
   ],
   "source": [
    "#1 indexing helps to get a value using a key\n",
    "state_ipl_team['Chennai']"
   ]
  },
  {
   "cell_type": "code",
   "execution_count": 102,
   "id": "6ca881f0-6864-4992-a58c-15d3c0f4620a",
   "metadata": {},
   "outputs": [
    {
     "data": {
      "text/plain": [
       "'LSG'"
      ]
     },
     "execution_count": 102,
     "metadata": {},
     "output_type": "execute_result"
    }
   ],
   "source": [
    "state_ipl_team['UP']"
   ]
  },
  {
   "cell_type": "code",
   "execution_count": 103,
   "id": "5a4d6c47-da43-4431-9a07-eab7288d6851",
   "metadata": {},
   "outputs": [
    {
     "name": "stdout",
     "output_type": "stream",
     "text": [
      "{'UP': 'LSG', 'Kerela': 'Kochi tuskers', 'Gujarat': 'Gujarat Titans', 'Chennai': 'CSK', 'Bangalore': 'RCB', 'West Bengal': 'KKR', 'Bombay': 'MI'}\n"
     ]
    }
   ],
   "source": [
    "#2 indexing also helps to update the values at a particular key \n",
    "state_ipl_team['Gujarat'] = 'Gujarat Titans'\n",
    "state_ipl_team['West Bengal'] = 'KKR'\n",
    "print(state_ipl_team)"
   ]
  },
  {
   "cell_type": "code",
   "execution_count": 104,
   "id": "52de9ef0-8a49-48ef-9668-50d811420290",
   "metadata": {},
   "outputs": [
    {
     "name": "stdout",
     "output_type": "stream",
     "text": [
      "{'UP': 'LSG', 'Kerela': 'Kochi tuskers', 'Gujarat': 'Gujarat Titans', 'Bangalore': 'RCB', 'West Bengal': 'KKR', 'Bombay': 'MI', 'Tamil Nadu': 'CSK'}\n"
     ]
    }
   ],
   "source": [
    "#3 indexing helps to change the key keeping the value same\n",
    "state_ipl_team['Tamil Nadu'] = state_ipl_team.pop('Chennai')\n",
    "print(state_ipl_team)"
   ]
  },
  {
   "cell_type": "code",
   "execution_count": 105,
   "id": "874019be-d195-4db1-b5c4-2708ec570b9d",
   "metadata": {},
   "outputs": [
    {
     "name": "stdout",
     "output_type": "stream",
     "text": [
      "{'UP': 'LSG', 'Kerela': 'Kochi tuskers', 'Gujarat': 'Gujarat Titans', 'Bangalore': 'RCB', 'West Bengal': 'KKR', 'Bombay': 'MI', 'Tamil Nadu': 'CSK', 'Andhra Pradesh': 'SRH', 'Punjab': 'PBKS'}\n"
     ]
    }
   ],
   "source": [
    "#4 indexing helps us to add new item in a dictionary \n",
    "state_ipl_team['Andhra Pradesh'] = 'SRH'\n",
    "state_ipl_team['Punjab'] = 'PBKS'\n",
    "print(state_ipl_team)"
   ]
  },
  {
   "cell_type": "code",
   "execution_count": null,
   "id": "8e856a60-e760-4c08-bf74-4c4de3f89fab",
   "metadata": {},
   "outputs": [],
   "source": [
    " "
   ]
  },
  {
   "cell_type": "code",
   "execution_count": 106,
   "id": "443975ef-24b2-4bdd-a8a8-fe4723abdbc7",
   "metadata": {},
   "outputs": [],
   "source": [
    "#Q6\n",
    "capitals = {'India':'New Delhi','Australia':'Adelaide','New Zealand':'Wellington','France':'Berlin','Netherlands':'Helsinki','Pakistan':'Colombo'}"
   ]
  },
  {
   "cell_type": "code",
   "execution_count": 107,
   "id": "da28db73-01be-4424-977d-4ed482985b1c",
   "metadata": {},
   "outputs": [
    {
     "name": "stdout",
     "output_type": "stream",
     "text": [
      "{'India': 'New Delhi', 'Australia': 'Adelaide', 'New Zealand': 'Wellington', 'France': 'Berlin', 'Finland': 'Helsinki', 'Sri Lanka': 'Colombo'}\n"
     ]
    }
   ],
   "source": [
    "capitals['Finland'] = capitals.pop('Netherlands')\n",
    "capitals['Sri Lanka'] = capitals.pop('Pakistan')\n",
    "print(capitals)"
   ]
  },
  {
   "cell_type": "code",
   "execution_count": 108,
   "id": "b862b357-dec7-4e50-9b7d-9086a3333e24",
   "metadata": {},
   "outputs": [
    {
     "name": "stdout",
     "output_type": "stream",
     "text": [
      "{'India': 'New Delhi', 'Australia': 'Canberra', 'New Zealand': 'Wellington', 'France': 'Paris', 'Finland': 'Helsinki', 'Sri Lanka': 'Colombo'}\n"
     ]
    }
   ],
   "source": [
    "capitals['Australia'] = 'Canberra'\n",
    "capitals['France'] = 'Paris'\n",
    "print(capitals)"
   ]
  },
  {
   "cell_type": "code",
   "execution_count": 109,
   "id": "6ac25108-bead-42e6-a332-d84718d659d8",
   "metadata": {},
   "outputs": [
    {
     "name": "stdout",
     "output_type": "stream",
     "text": [
      "{'India': 'New Delhi', 'Australia': 'Canberra', 'New Zealand': 'Wellington', 'France': 'Paris', 'Finland': 'Helsinki', 'Sri Lanka': 'Colombo', 'Spain': 'Madrid', 'Germany': 'Berlin'}\n"
     ]
    }
   ],
   "source": [
    "capitals['Spain'] = 'Madrid'\n",
    "capitals['Germany']= 'Berlin'\n",
    "print(capitals)"
   ]
  },
  {
   "cell_type": "code",
   "execution_count": null,
   "id": "fe93d0f7-1a10-4149-97be-f5018a91a9c3",
   "metadata": {},
   "outputs": [],
   "source": []
  },
  {
   "cell_type": "markdown",
   "id": "abe51b64-a1ed-4d7b-9cce-901764de68ca",
   "metadata": {},
   "source": [
    "# NESTED DICTIONARY"
   ]
  },
  {
   "cell_type": "code",
   "execution_count": null,
   "id": "bbc9f05f-6ce8-4da6-bc21-984a8dafc5d9",
   "metadata": {},
   "outputs": [],
   "source": [
    "#Q7 lists are mutable, dict keys are immutable so lists can never act like  a key, but tuple can becoz, tuples are immutable"
   ]
  },
  {
   "cell_type": "code",
   "execution_count": 110,
   "id": "9580c18c-69bd-49cb-9723-3ed56458579e",
   "metadata": {},
   "outputs": [],
   "source": [
    "cricket = {'Name': 'Rohit', 'Team': 'India', 'Designation': 'Captain','Birthplace':'Mumbai',\n",
    "           ('Age', 'Attribute','Other_teams'): [38,'Opening batter','Mumbai Indians'],\n",
    "           'Stats' : {'Matches': 300, 'Runs':5000, 'Wickets':60, 'Trophies as Captain': 6}}"
   ]
  },
  {
   "cell_type": "code",
   "execution_count": 111,
   "id": "1d6e82f0-ab18-4db8-b7f7-0ce72f9a65ae",
   "metadata": {},
   "outputs": [
    {
     "data": {
      "text/plain": [
       "{'Matches': 300, 'Runs': 5000, 'Wickets': 60, 'Trophies as Captain': 6}"
      ]
     },
     "execution_count": 111,
     "metadata": {},
     "output_type": "execute_result"
    }
   ],
   "source": [
    "cricket['Stats']"
   ]
  },
  {
   "cell_type": "code",
   "execution_count": null,
   "id": "23e8b224-e0e0-41e9-8039-6b19e6812b38",
   "metadata": {},
   "outputs": [],
   "source": []
  },
  {
   "cell_type": "markdown",
   "id": "8e769772-873a-404d-ba48-0ade46ec286d",
   "metadata": {},
   "source": [
    "# CONVERSION OF 2 LISTS INTO 1 DICTIONARY"
   ]
  },
  {
   "cell_type": "code",
   "execution_count": 112,
   "id": "94131a1f-baf7-413d-8a7a-53a1764936a7",
   "metadata": {},
   "outputs": [
    {
     "name": "stdout",
     "output_type": "stream",
     "text": [
      "{'Vepasa': 56, 'Jahnavi': 92, 'Sankar': 96, 'Jyoti': 95, 'Vishnu': 50}\n"
     ]
    }
   ],
   "source": [
    "#Q8 converting two lists into one dictionary\n",
    "candidates = ['Vepasa', 'Jahnavi', 'Sankar', 'Jyoti', 'Vishnu']\n",
    "attendance = [56, 92,96, 95, 50]\n",
    "info = dict(zip(candidates,attendance))\n",
    "print(info)"
   ]
  },
  {
   "cell_type": "code",
   "execution_count": null,
   "id": "1ab8dcb9-a405-42cc-a519-23dad1e4ca67",
   "metadata": {},
   "outputs": [],
   "source": []
  },
  {
   "cell_type": "markdown",
   "id": "447c9d64-8d50-418b-bd47-616c979c4150",
   "metadata": {},
   "source": [
    "# MERGING MULTIPLE DICTIONARY TO FORM A SINGLE DICTIONARY"
   ]
  },
  {
   "cell_type": "code",
   "execution_count": 113,
   "id": "fb15ab81-cfae-44ee-bf09-b70da4f3d397",
   "metadata": {},
   "outputs": [
    {
     "name": "stdout",
     "output_type": "stream",
     "text": [
      "{'Name': 'Arjun', 'Surname': 'Allu', 'Language': 'Telugu', 'No_of_movies': 50, 'age': 38, 'Best_actor_award': 4, 'Forthcoming movie': 'Pushpa 2'}\n"
     ]
    }
   ],
   "source": [
    "#Q9 merging multiple dictionaries into a single dictionary\n",
    "d1 = {'Name': 'Arjun', 'Surname': 'Allu'}\n",
    "d2 = {'Language': 'Telugu', 'No_of_movies' : 50}\n",
    "d3 = {'age': 38, 'Best_actor_award': 4}\n",
    "d4 = {'Forthcoming movie': 'Pushpa 2'}\n",
    "new_dict = {}\n",
    "for d in (d1,d2,d3,d4):new_dict.update(d)                     # d.update(d1)   d.update(d2)   d.update(d3)    print(d)\n",
    "print(new_dict)"
   ]
  },
  {
   "cell_type": "code",
   "execution_count": null,
   "id": "92798e69-45e1-4b1f-b211-4a55c94fc145",
   "metadata": {},
   "outputs": [],
   "source": []
  },
  {
   "cell_type": "markdown",
   "id": "d0f81cf1-2e77-4e04-afa8-89a8660dda61",
   "metadata": {},
   "source": [
    "# **STRING**"
   ]
  },
  {
   "cell_type": "code",
   "execution_count": 114,
   "id": "c639d8aa-0774-49aa-b89b-4e064cd29357",
   "metadata": {},
   "outputs": [
    {
     "data": {
      "text/plain": [
       "['Jahnavi', 'is', 'a', 'promissing', '', 'learner']"
      ]
     },
     "execution_count": 114,
     "metadata": {},
     "output_type": "execute_result"
    }
   ],
   "source": [
    "s = 'Jahnavi is a promissing  learner'\n",
    "s.split(' ')"
   ]
  },
  {
   "cell_type": "code",
   "execution_count": 115,
   "id": "103615aa-db28-490c-a00e-0d73d58f01e8",
   "metadata": {},
   "outputs": [
    {
     "data": {
      "text/plain": [
       "'4202 puC dlroW 02T'"
      ]
     },
     "execution_count": 115,
     "metadata": {},
     "output_type": "execute_result"
    }
   ],
   "source": [
    "#Q1 reverse the string \n",
    "d = 'T20 World Cup 2024'\n",
    "d[-1: : -1]                         # reversing through indexing "
   ]
  },
  {
   "cell_type": "code",
   "execution_count": 116,
   "id": "bb229219-e26b-4c6f-ab00-a6708d1d78c5",
   "metadata": {},
   "outputs": [
    {
     "name": "stdout",
     "output_type": "stream",
     "text": [
      "['T20', 'World', 'Cup', '2024']\n",
      "['2024', 'Cup', 'World', 'T20']\n"
     ]
    },
    {
     "data": {
      "text/plain": [
       "'4 2 0 2   p u C   d l r o W   0 2 T'"
      ]
     },
     "execution_count": 116,
     "metadata": {},
     "output_type": "execute_result"
    }
   ],
   "source": [
    "d = 'T20 World Cup 2024'\n",
    "ld = d.split()\n",
    "print(ld)\n",
    "ld.reverse()                        # words are reveresed \n",
    "print(ld)\n",
    "\" \".join(reversed(d))               # characters are reversesd "
   ]
  },
  {
   "cell_type": "code",
   "execution_count": 117,
   "id": "176b6d79-0191-4048-885f-1bbc072dede4",
   "metadata": {},
   "outputs": [
    {
     "name": "stdin",
     "output_type": "stream",
     "text": [
      "Enter the string:  malayalam\n"
     ]
    },
    {
     "name": "stdout",
     "output_type": "stream",
     "text": [
      "It is a palindrome\n"
     ]
    }
   ],
   "source": [
    "#Q2 check of the input string is a palindrome string \n",
    "sas = input(\"Enter the string: \")\n",
    "if sas == \"\".join(reversed(sas)):\n",
    "    print(\"It is a palindrome\")\n",
    "else:\n",
    "    print(\"It is not a palindrome\")"
   ]
  },
  {
   "cell_type": "code",
   "execution_count": 118,
   "id": "cd758495-69af-4901-89f0-fc5a89a7bea2",
   "metadata": {},
   "outputs": [
    {
     "data": {
      "text/plain": [
       "'malayalam'"
      ]
     },
     "execution_count": 118,
     "metadata": {},
     "output_type": "execute_result"
    }
   ],
   "source": [
    "sas = \"malayalam\"\n",
    "\"\".join(reversed(sas))"
   ]
  },
  {
   "cell_type": "code",
   "execution_count": null,
   "id": "f0163728-2686-4ce2-98fc-f36cc01daf94",
   "metadata": {},
   "outputs": [],
   "source": []
  },
  {
   "cell_type": "code",
   "execution_count": 119,
   "id": "ead6eab1-a93e-4ffc-aed9-4a3ae1e0c92e",
   "metadata": {},
   "outputs": [
    {
     "name": "stdout",
     "output_type": "stream",
     "text": [
      "Original list: ['Akash', 'Sahil', 'Manoj', 'Suraj', 'Zahid', 'Himanshu', 'Zahid', 'Suraj', 'Manoj', 'Sahil', 'Akash']\n",
      "Reversed list: ['Akash', 'Sahil', 'Manoj', 'Suraj', 'Zahid', 'Himanshu', 'Zahid', 'Suraj', 'Manoj', 'Sahil', 'Akash']\n",
      "It is a palindrome\n"
     ]
    }
   ],
   "source": [
    "#Q3 check the given list is palindrome list or not \n",
    "G = \" Akash Sahil Manoj Suraj Zahid Himanshu Zahid Suraj Manoj Sahil Akash \"\n",
    "lg = G.split()\n",
    "print(\"Original list:\", lg)\n",
    "\n",
    "reversed_lg = lg[::-1]  # This creates a reversed copy of the list\n",
    "print(\"Reversed list:\", reversed_lg)\n",
    "\n",
    "if lg == reversed_lg:\n",
    "    print(\"It is a palindrome\")\n",
    "else:\n",
    "    print(\"It is not a palindrome\")"
   ]
  },
  {
   "cell_type": "code",
   "execution_count": null,
   "id": "e6821e6d-4931-429e-9514-cd3215760b47",
   "metadata": {},
   "outputs": [],
   "source": []
  },
  {
   "cell_type": "code",
   "execution_count": 120,
   "id": "94751392-6383-42c8-9dbe-5afeb8432b33",
   "metadata": {},
   "outputs": [
    {
     "name": "stdout",
     "output_type": "stream",
     "text": [
      "['e', 'i', 'l', 'n', 's', 't']\n",
      "['e', 'i', 'l', 'n', 's', 't']\n",
      "Anagrams\n"
     ]
    }
   ],
   "source": [
    "#Q4 check the string is anagram or not \n",
    "s1 = \"listen\"\n",
    "s2 = \"silent\"\n",
    "\n",
    "ls1 = list(s1)\n",
    "ls2 = list(s2)\n",
    "\n",
    "ls1.sort()  # Sorts the list in place\n",
    "ls2.sort()  # Sorts the list in place\n",
    "\n",
    "print(ls1)\n",
    "print(ls2)\n",
    "\n",
    "if ls1 == ls2:  # Compare the sorted lists\n",
    "    print(\"Anagrams\")\n",
    "else:\n",
    "    print(\"Not anagrams\")\n"
   ]
  },
  {
   "cell_type": "code",
   "execution_count": null,
   "id": "2a7a818b-25c2-4b96-8913-0ef3a9c92e7f",
   "metadata": {},
   "outputs": [],
   "source": []
  },
  {
   "cell_type": "code",
   "execution_count": 121,
   "id": "1988bd9f-c98b-4434-8ab3-2bb9436fd977",
   "metadata": {},
   "outputs": [
    {
     "name": "stdout",
     "output_type": "stream",
     "text": [
      "['Python', 'best', 'coding', 'language']\n"
     ]
    }
   ],
   "source": [
    "#Q5 you have to store the words having a length more than equal to four in a new list \n",
    "a = 'Python is the best coding language in AI'\n",
    "\n",
    "new_a = []\n",
    "a_l = a.split(sep=\" \")  # Split the sentence into words\n",
    "for i in a_l:\n",
    "    if len(i) >= 4:  # Check if the word length is 4 or more\n",
    "        new_a.append(i)  # Add the word to the new list\n",
    "\n",
    "print(new_a)"
   ]
  },
  {
   "cell_type": "code",
   "execution_count": 122,
   "id": "d142030f-9795-43ea-b019-be6ce32b2f16",
   "metadata": {},
   "outputs": [
    {
     "name": "stdout",
     "output_type": "stream",
     "text": [
      "['Python', 'best', 'coding', 'language']\n"
     ]
    }
   ],
   "source": [
    "a = 'Python is the best coding language in AI'\n",
    "\n",
    "new_a = [i for i in a.split() if len(i) >= 4]\n",
    "\n",
    "print(new_a)"
   ]
  },
  {
   "cell_type": "code",
   "execution_count": null,
   "id": "ac3a381d-caa4-4729-b417-83b33a4aec6a",
   "metadata": {},
   "outputs": [],
   "source": []
  },
  {
   "cell_type": "markdown",
   "id": "086d8472-ee12-4a5e-84ba-719b307f7d68",
   "metadata": {},
   "source": [
    "# **LAMBDA FUNCTIONS**"
   ]
  },
  {
   "cell_type": "code",
   "execution_count": 123,
   "id": "bda6b998-e1a0-48d4-8db7-6b99f0b21ac8",
   "metadata": {},
   "outputs": [
    {
     "name": "stdout",
     "output_type": "stream",
     "text": [
      "[(3, 0), (4, 1), (1, 2), (2, 3)]\n"
     ]
    }
   ],
   "source": [
    "#Q1 Sorting a list of tuples based on the second element\n",
    "points = [(2, 3), (1, 2), (4, 1), (3, 0)]\n",
    "points_sorted = sorted(points, key=lambda x: x[1])\n",
    "print(points_sorted)  "
   ]
  },
  {
   "cell_type": "code",
   "execution_count": null,
   "id": "8902a1c8-36ec-4465-8587-435f85878d3b",
   "metadata": {},
   "outputs": [],
   "source": []
  },
  {
   "cell_type": "code",
   "execution_count": 124,
   "id": "2eca9f5c-986b-4675-afbe-129c61260dbb",
   "metadata": {},
   "outputs": [
    {
     "name": "stdout",
     "output_type": "stream",
     "text": [
      "[1, 4, 9, 16, 25]\n"
     ]
    }
   ],
   "source": [
    "#Q2 Applying a lambda function to square each element in a list\n",
    "numbers = [1, 2, 3, 4, 5]\n",
    "squared = list(map(lambda x: x**2, numbers))\n",
    "print(squared) "
   ]
  },
  {
   "cell_type": "code",
   "execution_count": null,
   "id": "d14d4aa4-b30a-499a-bc49-374ee3c817ec",
   "metadata": {},
   "outputs": [],
   "source": []
  },
  {
   "cell_type": "code",
   "execution_count": 125,
   "id": "75e5e8cc-986a-4ea7-8936-e883fe2fe663",
   "metadata": {},
   "outputs": [
    {
     "name": "stdout",
     "output_type": "stream",
     "text": [
      "[1, 3, 5, 7, 9]\n"
     ]
    }
   ],
   "source": [
    "#Q3 Filtering out even numbers from a list\n",
    "numbers = [1, 2, 3, 4, 5, 6, 7, 8, 9]\n",
    "odd_numbers = list(filter(lambda x: x % 2 != 0, numbers))\n",
    "print(odd_numbers)"
   ]
  },
  {
   "cell_type": "code",
   "execution_count": null,
   "id": "07e461d9-f05b-4a37-92dd-75862b963101",
   "metadata": {},
   "outputs": [],
   "source": []
  },
  {
   "cell_type": "code",
   "execution_count": 126,
   "id": "7db11571-9b96-46e7-8a5c-2f2c8adb1efc",
   "metadata": {},
   "outputs": [
    {
     "name": "stdout",
     "output_type": "stream",
     "text": [
      "24\n"
     ]
    }
   ],
   "source": [
    "#Q4 Using reduce to find the product of all elements in a list\n",
    "\n",
    "from functools import reduce\n",
    "\n",
    "numbers = [1, 2, 3, 4]\n",
    "product = reduce(lambda x, y: x * y, numbers)\n",
    "print(product)"
   ]
  },
  {
   "cell_type": "code",
   "execution_count": null,
   "id": "a4c7957e-fc15-43b8-a97b-470356ad9c32",
   "metadata": {},
   "outputs": [],
   "source": []
  },
  {
   "cell_type": "code",
   "execution_count": 127,
   "id": "df500902-08cb-4f73-9272-e8f173b76068",
   "metadata": {},
   "outputs": [
    {
     "name": "stdout",
     "output_type": "stream",
     "text": [
      "Positive\n",
      "Negative\n",
      "Zero\n"
     ]
    }
   ],
   "source": [
    "#Q5 Using a lambda to check if a number is positive, negative, or zero\n",
    "check_sign = lambda x: \"Positive\" if x > 0 else (\"Negative\" if x < 0 else \"Zero\")\n",
    "print(check_sign(10))\n",
    "print(check_sign(-5))\n",
    "print(check_sign(0))"
   ]
  },
  {
   "cell_type": "code",
   "execution_count": null,
   "id": "da7ce34d-196e-4bf8-9b8d-f7d97552826e",
   "metadata": {},
   "outputs": [],
   "source": []
  },
  {
   "cell_type": "code",
   "execution_count": 128,
   "id": "0a8fad8d-53b9-4b6a-8c5f-b8b7bbbd4d07",
   "metadata": {},
   "outputs": [
    {
     "name": "stdout",
     "output_type": "stream",
     "text": [
      "[2, 4, 6, 8, 10]\n"
     ]
    }
   ],
   "source": [
    "#Q6 Using lambda within a list comprehension to modify elements\n",
    "numbers = [1, 2, 3, 4, 5]\n",
    "double_numbers = [(lambda x: x * 2) (x) for x in numbers]\n",
    "print(double_numbers)"
   ]
  },
  {
   "cell_type": "code",
   "execution_count": null,
   "id": "06e9caf6-462a-4d09-9239-ebdee59c3efe",
   "metadata": {},
   "outputs": [],
   "source": []
  },
  {
   "cell_type": "code",
   "execution_count": 129,
   "id": "61c67f62-5bb1-4451-8758-e773675b8c72",
   "metadata": {},
   "outputs": [
    {
     "name": "stdout",
     "output_type": "stream",
     "text": [
      "15\n",
      "5\n",
      "50\n",
      "Division by zero\n"
     ]
    }
   ],
   "source": [
    "#Q7 Using lambda functions in a dictionary to perform different operations\n",
    "operations = {\n",
    "    'add': lambda x, y: x + y,\n",
    "    'subtract': lambda x, y: x - y,\n",
    "    'multiply': lambda x, y: x * y,\n",
    "    'divide': lambda x, y: x / y if y != 0 else 'Division by zero'\n",
    "}\n",
    "\n",
    "print(operations['add'](10, 5))\n",
    "print(operations['subtract'](10, 5))\n",
    "print(operations['multiply'](10, 5))\n",
    "print(operations['divide'](10, 0))"
   ]
  },
  {
   "cell_type": "code",
   "execution_count": null,
   "id": "7a59b6ea-72a5-4250-b54a-b2f1e8978dd2",
   "metadata": {},
   "outputs": [],
   "source": []
  },
  {
   "cell_type": "markdown",
   "id": "e3afa287-d130-498d-b0a1-024a9b2e6b26",
   "metadata": {},
   "source": [
    "# **UDF**"
   ]
  },
  {
   "cell_type": "code",
   "execution_count": 130,
   "id": "b921e91b-cb28-4558-923f-485498badbfa",
   "metadata": {},
   "outputs": [
    {
     "data": {
      "text/plain": [
       "(10.17, 12.5)"
      ]
     },
     "execution_count": 130,
     "metadata": {},
     "output_type": "execute_result"
    }
   ],
   "source": [
    "#Q1 create a udf which gives then mean, median of any random values\n",
    "\n",
    "data = [10,5,17,11,14,4]\n",
    "\n",
    "def desc_six(l):\n",
    "    mean = round(sum(l)/len(l),2)\n",
    "    s = sorted(l)\n",
    "    if len(s) % 2 == 0:\n",
    "        pos1 = len(s)//2\n",
    "        pos2 = (len(s)//2)+1\n",
    "        median = (s[pos1]+s[pos2])/2\n",
    "        return mean, median\n",
    "\n",
    "    else:\n",
    "        pos = len(s)//2\n",
    "        return mean, s[pos]\n",
    "\n",
    "desc_six(data)"
   ]
  },
  {
   "cell_type": "code",
   "execution_count": null,
   "id": "48b1d119-12ea-4d8a-a3a0-51008b566df4",
   "metadata": {},
   "outputs": [],
   "source": []
  },
  {
   "cell_type": "code",
   "execution_count": 131,
   "id": "45a11d61-aaaf-4e75-948c-8bc58ed470f9",
   "metadata": {},
   "outputs": [
    {
     "name": "stdout",
     "output_type": "stream",
     "text": [
      "120\n",
      "15511210043330985984000000\n"
     ]
    }
   ],
   "source": [
    "#Q2 create a udf that calculates the factorial of number \n",
    "\n",
    "def factorial(n):\n",
    "    if n == 0 or n ==1:\n",
    "        return 1 \n",
    "    else:\n",
    "        return n * factorial(n-1)\n",
    "\n",
    "print(factorial(5))\n",
    "\n",
    "print(factorial(25))"
   ]
  },
  {
   "cell_type": "code",
   "execution_count": null,
   "id": "8bdb30bd-abf3-4d7b-9632-377466a95885",
   "metadata": {},
   "outputs": [],
   "source": []
  },
  {
   "cell_type": "code",
   "execution_count": 132,
   "id": "cf157921-d8d3-4c7f-b005-526b5c2c7264",
   "metadata": {},
   "outputs": [
    {
     "name": "stdout",
     "output_type": "stream",
     "text": [
      "Prime numbers in the list: [17, 23, 29, 37]\n"
     ]
    }
   ],
   "source": [
    "#Q3 create a udf to get the prime numbers in the given list \n",
    "\n",
    "def is_prime(num):\n",
    "    if num < 2:\n",
    "        return False\n",
    "    for i in range(2, int(num**0.5) + 1):\n",
    "        if num % i == 0:\n",
    "            return False\n",
    "    return True\n",
    "\n",
    "def print_primes_in_list(lst):\n",
    "    prime_numbers = [num for num in lst if is_prime(num)]\n",
    "    if prime_numbers:\n",
    "        print(\"Prime numbers in the list:\", prime_numbers)\n",
    "    else:\n",
    "        print(\"No prime numbers in the list.\")\n",
    "\n",
    "my_list = [10, 15, 17, 23, 29, 33, 37, 42]\n",
    "print_primes_in_list(my_list)"
   ]
  },
  {
   "cell_type": "code",
   "execution_count": null,
   "id": "f68cc682-c70b-4b85-8a89-88bbd3b18da0",
   "metadata": {},
   "outputs": [],
   "source": []
  },
  {
   "cell_type": "code",
   "execution_count": 133,
   "id": "97f1257b-d79b-4580-90e2-fd45cb29a3be",
   "metadata": {},
   "outputs": [
    {
     "name": "stdout",
     "output_type": "stream",
     "text": [
      "Prime numbers between 10 and 50: [11, 13, 17, 19, 23, 29, 31, 37, 41, 43, 47]\n"
     ]
    }
   ],
   "source": [
    "#Q4 create a udf to get the prime numbers from the given range \n",
    "\n",
    "def is_prime(num):\n",
    "    if num < 2:\n",
    "        return False\n",
    "    for i in range(2, int(num**0.5) + 1):\n",
    "        if num % i == 0:\n",
    "            return False\n",
    "    return True\n",
    "\n",
    "def print_primes_in_range(start, end):\n",
    "    prime_numbers = [num for num in range(start, end + 1) if is_prime(num)]\n",
    "    if prime_numbers:\n",
    "        print(f\"Prime numbers between {start} and {end}: {prime_numbers}\")\n",
    "    else:\n",
    "        print(f\"No prime numbers found between {start} and {end}.\")\n",
    "\n",
    "print_primes_in_range(10, 50)"
   ]
  },
  {
   "cell_type": "code",
   "execution_count": null,
   "id": "7875bac6-ecc1-4d2f-8a40-c2f5ef339f24",
   "metadata": {},
   "outputs": [],
   "source": []
  },
  {
   "cell_type": "code",
   "execution_count": 134,
   "id": "96cf8127-60dc-4b55-a76a-4aa2da701648",
   "metadata": {},
   "outputs": [
    {
     "name": "stdout",
     "output_type": "stream",
     "text": [
      "[1, 100, 9, 100, 100, 21, 25, 100, 33, 100, 100, 45, 49, 100, 57, 100, 65, 69, 100, 77, 81, 85, 100, 93, 100, 100, 105, 100, 100, 117, 121, 125, 129, 133, 100, 141, 145, 100, 153, 100, 161, 165, 169, 100, 177, 100, 185, 189, 100, 100]\n"
     ]
    }
   ],
   "source": [
    "#Q5 Replace/Update the indexes where there are prime numbers with 100 in the list \n",
    "\n",
    "def is_prime(num):\n",
    "    if num <= 1:\n",
    "        return False\n",
    "    for i in range(2, int(num**0.5) + 1):\n",
    "        if num % i == 0:\n",
    "            return False\n",
    "    return True\n",
    "Data = list(range(1, 201, 4))\n",
    "Data = [100 if is_prime(x) else x for x in Data]\n",
    "print(Data)"
   ]
  },
  {
   "cell_type": "code",
   "execution_count": null,
   "id": "980de32c-1798-476c-bf18-af481f9c759c",
   "metadata": {},
   "outputs": [],
   "source": []
  },
  {
   "cell_type": "code",
   "execution_count": 135,
   "id": "1d704e5c-7c46-4c91-ae1d-70594041cfc9",
   "metadata": {},
   "outputs": [],
   "source": [
    "#Q6 create a udf which takes a list as an parameter/argument that provides \n",
    "# sum of all the multiples of 3 and 5 and product of all the odd numbers and the count of all the multiples of 3 and 5 "
   ]
  },
  {
   "cell_type": "code",
   "execution_count": 136,
   "id": "73d8a0a8-2507-4a18-b672-3610fecf47e7",
   "metadata": {},
   "outputs": [
    {
     "name": "stdout",
     "output_type": "stream",
     "text": [
      "Sum of multiples of 3 and 5: 1001\n",
      "Product of odd numbers: 6464942859375\n",
      "Count of multiples of 3 and 5: 16\n"
     ]
    }
   ],
   "source": [
    "data = [24, 56, 45, 7, 12, 30, 90, 81, 63, 88, 62, 102, 120, 60, 25, 39, 55, 80, 100, 75]\n",
    "\n",
    "def process_list(data):\n",
    "    sum_multiples_3_and_5 = 0\n",
    "    product_of_odds = 1\n",
    "    count_multiples_3_and_5 = 0\n",
    "\n",
    "    for num in data:\n",
    "        # Check if the number is a multiple of 3 or 5\n",
    "        if num % 3 == 0 or num % 5 == 0:\n",
    "            sum_multiples_3_and_5 += num\n",
    "            count_multiples_3_and_5 += 1\n",
    "        \n",
    "        # Check if the number is odd\n",
    "        if num % 2 != 0:\n",
    "            product_of_odds *= num\n",
    "\n",
    "    return sum_multiples_3_and_5, product_of_odds, count_multiples_3_and_5\n",
    "\n",
    "data = [24, 56, 45, 7, 12, 30, 90, 81, 63, 88, 62, 102, 120, 60, 25, 39, 55, 80, 100, 75]\n",
    "sum_multiples, product_odds, count_multiples = process_list(data)\n",
    "\n",
    "print(f\"Sum of multiples of 3 and 5: {sum_multiples}\")\n",
    "print(f\"Product of odd numbers: {product_odds}\")\n",
    "print(f\"Count of multiples of 3 and 5: {count_multiples}\")"
   ]
  },
  {
   "cell_type": "code",
   "execution_count": null,
   "id": "92bc9d42-74ea-4457-8846-2212dc322adf",
   "metadata": {},
   "outputs": [],
   "source": []
  },
  {
   "cell_type": "markdown",
   "id": "fa08613a-96b7-48da-86c5-a4e8390cbc7e",
   "metadata": {},
   "source": [
    "# **EXCEPTION HANDLING**"
   ]
  },
  {
   "cell_type": "code",
   "execution_count": 137,
   "id": "93d26307-c14e-46a6-bf60-6b7b02a13527",
   "metadata": {},
   "outputs": [
    {
     "name": "stdin",
     "output_type": "stream",
     "text": [
      "Enter a number:  a\n"
     ]
    },
    {
     "name": "stdout",
     "output_type": "stream",
     "text": [
      "Invalid input! Please enter a number.\n",
      "End of the program.\n"
     ]
    }
   ],
   "source": [
    "#Q1 Handling Multiple Exceptions\n",
    "\n",
    "try:\n",
    "    number = int(input(\"Enter a number: \"))\n",
    "    result = 10 / number\n",
    "except ValueError:\n",
    "    print(\"Invalid input! Please enter a number.\")\n",
    "except ZeroDivisionError:\n",
    "    print(\"You can't divide by zero!\")\n",
    "else:\n",
    "    print(\"Division successful:\", result)\n",
    "finally:\n",
    "    print(\"End of the program.\")"
   ]
  },
  {
   "cell_type": "code",
   "execution_count": null,
   "id": "c03daed2-1779-4bc4-9859-3d86b68a83db",
   "metadata": {},
   "outputs": [],
   "source": []
  },
  {
   "cell_type": "code",
   "execution_count": 138,
   "id": "a055cc48-54ed-42b7-993c-77be1585034e",
   "metadata": {},
   "outputs": [
    {
     "name": "stdout",
     "output_type": "stream",
     "text": [
      "Error: Cannot divide by zero.\n"
     ]
    }
   ],
   "source": [
    "#Q2 Raising Exceptions\n",
    "\n",
    "def divide(a, b):\n",
    "    if b == 0:\n",
    "        raise ZeroDivisionError(\"Cannot divide by zero.\")\n",
    "    return a / b\n",
    "\n",
    "try:\n",
    "    result = divide(10, 0)\n",
    "except ZeroDivisionError as e:\n",
    "    print(f\"Error: {e}\")"
   ]
  },
  {
   "cell_type": "code",
   "execution_count": null,
   "id": "79f301b3-1c2b-4044-9dde-cf59a89a45f2",
   "metadata": {},
   "outputs": [],
   "source": []
  },
  {
   "cell_type": "code",
   "execution_count": 139,
   "id": "141a97af-1a7d-4582-999e-c1b6600f93a3",
   "metadata": {},
   "outputs": [
    {
     "name": "stdin",
     "output_type": "stream",
     "text": [
      "Enter a positive number:  -1\n"
     ]
    },
    {
     "name": "stdout",
     "output_type": "stream",
     "text": [
      "Error: Number cannot be negative. You entered: -1\n"
     ]
    }
   ],
   "source": [
    "#Q3 Exception using 'class' and 'udf'\n",
    "\n",
    "class NegativeNumberError(Exception):\n",
    "    def __init__(self, number, message=\"Number cannot be negative\"):\n",
    "        self.number = number\n",
    "        self.message = message\n",
    "        super().__init__(self.message)\n",
    "\n",
    "def check_positive_number(number):\n",
    "    if number < 0:\n",
    "        raise NegativeNumberError(number)\n",
    "    return number\n",
    "\n",
    "try:\n",
    "    num = int(input(\"Enter a positive number: \"))\n",
    "    print(\"You entered:\", check_positive_number(num))\n",
    "except NegativeNumberError as e:\n",
    "    print(f\"Error: {e.message}. You entered: {e.number}\")\n",
    "except ValueError:\n",
    "    print(\"Invalid input! Please enter a valid number.\")"
   ]
  },
  {
   "cell_type": "code",
   "execution_count": null,
   "id": "e67d4fb1-4244-4a97-9a59-84ff12e2c2ce",
   "metadata": {},
   "outputs": [],
   "source": []
  },
  {
   "cell_type": "code",
   "execution_count": 140,
   "id": "da05dcfc-7b57-487b-acaa-5375f860884a",
   "metadata": {},
   "outputs": [
    {
     "name": "stdin",
     "output_type": "stream",
     "text": [
      "Enter a number greater than 0:  a\n"
     ]
    },
    {
     "name": "stdout",
     "output_type": "stream",
     "text": [
      "Error: invalid literal for int() with base 10: 'a'\n",
      "Execution completed\n"
     ]
    }
   ],
   "source": [
    "#Q4 Exception using 'else' and 'finally'\n",
    "\n",
    "try:\n",
    "    num = int(input(\"Enter a number greater than 0: \"))\n",
    "    if num <= 0:\n",
    "        raise ValueError(\"Number must be greater than 0\")\n",
    "except ValueError as e:\n",
    "    print(f\"Error: {e}\")\n",
    "else:\n",
    "    print(f\"Good job! You entered {num}.\")\n",
    "finally:\n",
    "    print(\"Execution completed\")"
   ]
  },
  {
   "cell_type": "code",
   "execution_count": null,
   "id": "28f6c7d8-f651-43e3-8043-1e8b27e642fa",
   "metadata": {},
   "outputs": [],
   "source": []
  },
  {
   "cell_type": "code",
   "execution_count": 141,
   "id": "deb9af81-1da4-4b5e-8ec3-3417aefbe25c",
   "metadata": {},
   "outputs": [
    {
     "name": "stdin",
     "output_type": "stream",
     "text": [
      "Enter an integer (0 to exit):  0\n"
     ]
    },
    {
     "name": "stdout",
     "output_type": "stream",
     "text": [
      "Try another number.\n"
     ]
    }
   ],
   "source": [
    "#Q5 Exception Handling in a Loop\n",
    "\n",
    "while True:\n",
    "    try:\n",
    "        num = int(input(\"Enter an integer (0 to exit): \"))\n",
    "        if num == 0:\n",
    "            break\n",
    "        result = 100 / num\n",
    "        print(f\"100 divided by {num} is {result}\")\n",
    "    except ValueError:\n",
    "        print(\"That's not an integer!\")\n",
    "    except ZeroDivisionError:\n",
    "        print(\"You can't divide by zero!\")\n",
    "    finally:\n",
    "        print(\"Try another number.\")\n"
   ]
  },
  {
   "cell_type": "code",
   "execution_count": null,
   "id": "2e0da8b7-5cd7-458e-9d4c-354e1c1f2af1",
   "metadata": {},
   "outputs": [],
   "source": []
  },
  {
   "cell_type": "code",
   "execution_count": null,
   "id": "157bbc40-0400-4b42-9a0e-1a4a962c2312",
   "metadata": {},
   "outputs": [],
   "source": []
  },
  {
   "cell_type": "markdown",
   "id": "3dadbf66-3d31-4ff2-8d3d-2a993daff238",
   "metadata": {},
   "source": [
    "# ***OOPS***"
   ]
  },
  {
   "cell_type": "markdown",
   "id": "85c8683a-beb1-4290-9ffa-d8321a447cfa",
   "metadata": {},
   "source": [
    "# **SINGLE INHERITANCE**"
   ]
  },
  {
   "cell_type": "code",
   "execution_count": 142,
   "id": "79e0ad99-dd6b-4697-a59f-52016ada4242",
   "metadata": {},
   "outputs": [
    {
     "name": "stdout",
     "output_type": "stream",
     "text": [
      "The engine of 2021 Toyota Corolla is now running.\n",
      "Toyota Corolla honks its horn.\n",
      "2021 Toyota Corolla with 4 doors.\n",
      "The engine of 2021 Toyota Corolla is now off.\n"
     ]
    }
   ],
   "source": [
    "class Vehicle:\n",
    "    def __init__(self, make, model, year):\n",
    "        self.make = make\n",
    "        self.model = model\n",
    "        self.year = year\n",
    "\n",
    "    def start_engine(self):\n",
    "        return f\"The engine of {self.year} {self.make} {self.model} is now running.\"\n",
    "\n",
    "    def stop_engine(self):\n",
    "        return f\"The engine of {self.year} {self.make} {self.model} is now off.\"\n",
    "\n",
    "\n",
    "class Car(Vehicle):\n",
    "    def __init__(self, make, model, year, doors):\n",
    "        super().__init__(make, model, year)\n",
    "        self.doors = doors\n",
    "\n",
    "    def honk_horn(self):\n",
    "        return f\"{self.make} {self.model} honks its horn.\"\n",
    "\n",
    "    def describe(self):\n",
    "        return f\"{self.year} {self.make} {self.model} with {self.doors} doors.\"\n",
    "\n",
    "my_car = Car(\"Toyota\", \"Corolla\", 2021, 4)\n",
    "print(my_car.start_engine())\n",
    "print(my_car.honk_horn())\n",
    "print(my_car.describe())\n",
    "print(my_car.stop_engine())"
   ]
  },
  {
   "cell_type": "code",
   "execution_count": null,
   "id": "5a172868-bba8-42e1-88ce-57537c4a9ef9",
   "metadata": {},
   "outputs": [],
   "source": []
  },
  {
   "cell_type": "markdown",
   "id": "ebf07411-c086-425d-b5ad-0999001c531f",
   "metadata": {},
   "source": [
    "# **HIERARCHICAL INHERITANCE**"
   ]
  },
  {
   "cell_type": "code",
   "execution_count": 143,
   "id": "724ae21b-e57f-41ed-84d8-e47b51bacb5e",
   "metadata": {},
   "outputs": [
    {
     "name": "stdout",
     "output_type": "stream",
     "text": [
      "Hello, my name is Alice and I am 20 years old.\n",
      "Alice is studying.\n",
      "Student ID: S12345\n",
      "Hello, my name is Mr. Smith and I am 45 years old.\n",
      "Mr. Smith is teaching Mathematics.\n",
      "Teaches: Mathematics\n"
     ]
    }
   ],
   "source": [
    "class Person:\n",
    "    def __init__(self, name, age):\n",
    "        self.name = name\n",
    "        self.age = age\n",
    "\n",
    "    def introduce(self):\n",
    "        return f\"Hello, my name is {self.name} and I am {self.age} years old.\"\n",
    "\n",
    "class Student(Person):\n",
    "    def __init__(self, name, age, student_id):\n",
    "        super().__init__(name, age)\n",
    "        self.student_id = student_id\n",
    "\n",
    "    def study(self):\n",
    "        return f\"{self.name} is studying.\"\n",
    "\n",
    "    def show_id(self):\n",
    "        return f\"Student ID: {self.student_id}\"\n",
    "\n",
    "class Teacher(Person):\n",
    "    def __init__(self, name, age, subject):\n",
    "        super().__init__(name, age)\n",
    "        self.subject = subject\n",
    "\n",
    "    def teach(self):\n",
    "        return f\"{self.name} is teaching {self.subject}.\"\n",
    "\n",
    "    def show_subject(self):\n",
    "        return f\"Teaches: {self.subject}\"\n",
    "\n",
    "student = Student(\"Alice\", 20, \"S12345\")\n",
    "\n",
    "teacher = Teacher(\"Mr. Smith\", 45, \"Mathematics\")\n",
    "\n",
    "print(student.introduce())   \n",
    "print(student.study())       \n",
    "print(student.show_id())\n",
    "\n",
    "print(teacher.introduce())   \n",
    "print(teacher.teach())       \n",
    "print(teacher.show_subject())\n"
   ]
  },
  {
   "cell_type": "code",
   "execution_count": null,
   "id": "4fedc201-b211-474e-aee1-1d519a91b0cc",
   "metadata": {},
   "outputs": [],
   "source": []
  },
  {
   "cell_type": "markdown",
   "id": "8332120d-019d-4f85-b5d5-6a25819c0228",
   "metadata": {},
   "source": [
    "# **MULTIPLE INHERITANCE**"
   ]
  },
  {
   "cell_type": "code",
   "execution_count": 144,
   "id": "f965d171-5f1d-43b2-93cc-5854f4321cb5",
   "metadata": {},
   "outputs": [
    {
     "name": "stdout",
     "output_type": "stream",
     "text": [
      "Hello, my name is Alice and I am 35 years old.\n",
      "Employee ID M12345 is working as a Manager.\n",
      "Alice manages the Sales department.\n"
     ]
    }
   ],
   "source": [
    "class Person:\n",
    "    def __init__(self, name, age):\n",
    "        self.name = name\n",
    "        self.age = age\n",
    "\n",
    "    def introduce(self):\n",
    "        return f\"Hello, my name is {self.name} and I am {self.age} years old.\"\n",
    "\n",
    "class Employee:\n",
    "    def __init__(self, employee_id, position):\n",
    "        self.employee_id = employee_id\n",
    "        self.position = position\n",
    "\n",
    "    def work(self):\n",
    "        return f\"Employee ID {self.employee_id} is working as a {self.position}.\"\n",
    "\n",
    "class Manager(Person, Employee):\n",
    "    def __init__(self, name, age, employee_id, position, department):\n",
    "        # Initialize both parent classes\n",
    "        Person.__init__(self, name, age)\n",
    "        Employee.__init__(self, employee_id, position)\n",
    "        self.department = department\n",
    "\n",
    "    def manage(self):\n",
    "        return f\"{self.name} manages the {self.department} department.\"\n",
    "\n",
    "manager = Manager(\"Alice\", 35, \"M12345\", \"Manager\", \"Sales\")\n",
    "\n",
    "print(manager.introduce())\n",
    "print(manager.work())\n",
    "print(manager.manage())"
   ]
  },
  {
   "cell_type": "code",
   "execution_count": null,
   "id": "1c828171-aaa8-4774-809a-1430706c589e",
   "metadata": {},
   "outputs": [],
   "source": []
  },
  {
   "cell_type": "markdown",
   "id": "1eba4293-c8f5-4aab-b088-e1e1c4284b5a",
   "metadata": {},
   "source": [
    "# **MULTILEVEL INHERITANCE**"
   ]
  },
  {
   "cell_type": "code",
   "execution_count": 145,
   "id": "f18acb07-6ce8-4ffd-8424-123d56496825",
   "metadata": {},
   "outputs": [
    {
     "name": "stdout",
     "output_type": "stream",
     "text": [
      "Hello, my name is Alice and I am 35 years old.\n",
      "Employee ID M12345 is working.\n",
      "Alice manages the Sales department.\n"
     ]
    }
   ],
   "source": [
    "class Person:\n",
    "    def __init__(self, name, age):\n",
    "        self.name = name\n",
    "        self.age = age\n",
    "\n",
    "    def introduce(self):\n",
    "        return f\"Hello, my name is {self.name} and I am {self.age} years old.\"\n",
    "\n",
    "class Employee(Person):\n",
    "    def __init__(self, name, age, employee_id):\n",
    "        # Initialize the parent class (Person)\n",
    "        super().__init__(name, age)\n",
    "        self.employee_id = employee_id\n",
    "\n",
    "    def work(self):\n",
    "        return f\"Employee ID {self.employee_id} is working.\"\n",
    "\n",
    "class Manager(Employee):\n",
    "    def __init__(self, name, age, employee_id, department):\n",
    "        # Initialize the parent class (Employee)\n",
    "        super().__init__(name, age, employee_id)\n",
    "        self.department = department\n",
    "\n",
    "    def manage(self):\n",
    "        return f\"{self.name} manages the {self.department} department.\"\n",
    "\n",
    "manager = Manager(\"Alice\", 35, \"M12345\", \"Sales\")\n",
    "\n",
    "print(manager.introduce())\n",
    "print(manager.work())\n",
    "print(manager.manage())"
   ]
  },
  {
   "cell_type": "code",
   "execution_count": null,
   "id": "571c91b8-e971-4015-b5c0-0e913f1d8200",
   "metadata": {},
   "outputs": [],
   "source": []
  },
  {
   "cell_type": "markdown",
   "id": "46acfbba-9922-42c0-80d8-dd2f428eb69d",
   "metadata": {},
   "source": [
    "# **SUPER KEY()**"
   ]
  },
  {
   "cell_type": "code",
   "execution_count": 146,
   "id": "750d1bc0-d907-4905-a0ae-e6e7a117378e",
   "metadata": {},
   "outputs": [
    {
     "name": "stdout",
     "output_type": "stream",
     "text": [
      "2022 Tesla Model S is starting. It's a electric car. Battery capacity is 100 kWh.\n"
     ]
    }
   ],
   "source": [
    "# Base or Parent Class\n",
    "class Vehicle:\n",
    "    def __init__(self, make, model, year):\n",
    "        self.make = make\n",
    "        self.model = model\n",
    "        self.year = year\n",
    "\n",
    "    def start(self):\n",
    "        return f\"{self.year} {self.make} {self.model} is starting.\"\n",
    "\n",
    "# Intermediate Class (Child of Vehicle)\n",
    "class Car(Vehicle):\n",
    "    def __init__(self, make, model, year, fuel_type):\n",
    "        # Initialize the parent class (Vehicle)\n",
    "        super().__init__(make, model, year)\n",
    "        self.fuel_type = fuel_type\n",
    "\n",
    "    def start(self):\n",
    "        # Call the parent class's start method using super()\n",
    "        base_start = super().start()\n",
    "        return f\"{base_start} It's a {self.fuel_type} car.\"\n",
    "\n",
    "# Derived Class (Child of Car)\n",
    "class ElectricCar(Car):\n",
    "    def __init__(self, make, model, year, battery_capacity):\n",
    "        # Initialize the parent class (Car)\n",
    "        super().__init__(make, model, year, fuel_type=\"electric\")\n",
    "        self.battery_capacity = battery_capacity\n",
    "\n",
    "    def start(self):\n",
    "        # Call the parent class's start method using super()\n",
    "        car_start = super().start()\n",
    "        return f\"{car_start} Battery capacity is {self.battery_capacity} kWh.\"\n",
    "\n",
    "# Create an instance of the ElectricCar class\n",
    "my_electric_car = ElectricCar(\"Tesla\", \"Model S\", 2022, 100)\n",
    "\n",
    "# Access methods from ElectricCar, Car, and Vehicle classes\n",
    "print(my_electric_car.start())  \n"
   ]
  },
  {
   "cell_type": "code",
   "execution_count": null,
   "id": "97cbbafd-ddc7-4e95-8bd5-9ed58d0906ef",
   "metadata": {},
   "outputs": [],
   "source": []
  },
  {
   "cell_type": "code",
   "execution_count": null,
   "id": "193c5b95-93cd-426a-9a1e-4e5a1f6a3475",
   "metadata": {},
   "outputs": [],
   "source": []
  },
  {
   "cell_type": "markdown",
   "id": "a0632c38-a326-4cdb-adde-60422122d892",
   "metadata": {},
   "source": [
    "# **PUBLIC ACCESS SPECIFIER**"
   ]
  },
  {
   "cell_type": "code",
   "execution_count": 147,
   "id": "24807328-e468-4caa-afab-2f1f61226935",
   "metadata": {},
   "outputs": [
    {
     "name": "stdout",
     "output_type": "stream",
     "text": [
      "Account holder: John Doe\n",
      "Initial balance: $1000\n",
      "Balance after direct modification: $1500\n",
      "Deposited $300. New balance is $1800.\n",
      "Withdrew $400. New balance is $1400.\n"
     ]
    }
   ],
   "source": [
    "class BankAccount:\n",
    "    def __init__(self, account_holder, balance=0):\n",
    "        # Public attributes\n",
    "        self.account_holder = account_holder\n",
    "        self.balance = balance\n",
    "\n",
    "    def deposit(self, amount):\n",
    "        self.balance += amount\n",
    "        print(f\"Deposited ${amount}. New balance is ${self.balance}.\")\n",
    "\n",
    "    def withdraw(self, amount):\n",
    "        if amount > self.balance:\n",
    "            print(\"Insufficient funds.\")\n",
    "        else:\n",
    "            self.balance -= amount\n",
    "            print(f\"Withdrew ${amount}. New balance is ${self.balance}.\")\n",
    "\n",
    "# Creating an instance of BankAccount\n",
    "account = BankAccount(\"John Doe\", 1000)\n",
    "\n",
    "# Accessing and modifying public attributes directly\n",
    "print(f\"Account holder: {account.account_holder}\")  # Accessing public attribute\n",
    "print(f\"Initial balance: ${account.balance}\")       # Accessing public attribute\n",
    "\n",
    "# Directly modifying the public balance attribute\n",
    "account.balance += 500\n",
    "print(f\"Balance after direct modification: ${account.balance}\")\n",
    "\n",
    "# Using methods to interact with the account\n",
    "account.deposit(300)      # Deposited $300. New balance is $1800.\n",
    "account.withdraw(400)     # Withdrew $400. New balance is $1400.\n"
   ]
  },
  {
   "cell_type": "code",
   "execution_count": null,
   "id": "71c28145-e8c7-4a36-a55a-4bedaa928fce",
   "metadata": {},
   "outputs": [],
   "source": []
  },
  {
   "cell_type": "code",
   "execution_count": null,
   "id": "fed49e84-f4fa-4b84-8761-6f92c10d7a2b",
   "metadata": {},
   "outputs": [],
   "source": []
  },
  {
   "cell_type": "markdown",
   "id": "c3846445-ae9e-43f5-96b1-ffdaa2feb90e",
   "metadata": {},
   "source": [
    "# **PROTECTED ACCESS SPECIFIER**"
   ]
  },
  {
   "cell_type": "code",
   "execution_count": 148,
   "id": "2e0da290-a3bd-497d-beec-26b5a76dea3b",
   "metadata": {},
   "outputs": [
    {
     "name": "stdout",
     "output_type": "stream",
     "text": [
      "Alice\n",
      "1000\n",
      "1500\n",
      "Balance with interest for Alice: 1575.0\n",
      "New balance after interest for Alice: 1552.5\n"
     ]
    }
   ],
   "source": [
    "class BankAccount:\n",
    "    def __init__(self, account_holder, balance):\n",
    "        self.account_holder = account_holder   # Public attribute\n",
    "        self._balance = balance                # Protected attribute\n",
    "\n",
    "    def deposit(self, amount):\n",
    "        if amount > 0:\n",
    "            self._balance += amount            # Accessing protected attribute\n",
    "        return self._balance\n",
    "\n",
    "    def _calculate_interest(self):             # Protected method\n",
    "        return self._balance * 0.05\n",
    "\n",
    "    def get_balance_with_interest(self):\n",
    "        interest = self._calculate_interest()  # Accessing protected method\n",
    "        return f\"Balance with interest for {self.account_holder}: {self._balance + interest}\"\n",
    "\n",
    "class SavingsAccount(BankAccount):\n",
    "    def __init__(self, account_holder, balance, interest_rate):\n",
    "        super().__init__(account_holder, balance)\n",
    "        self.interest_rate = interest_rate\n",
    "\n",
    "    def add_interest(self):\n",
    "        interest = self._balance * self.interest_rate / 100\n",
    "        self._balance += interest\n",
    "        return f\"New balance after interest for {self.account_holder}: {self._balance}\"\n",
    "\n",
    "# Creating an instance of SavingsAccount\n",
    "savings_account = SavingsAccount(\"Alice\", 1000, 3.5)\n",
    "\n",
    "# Accessing public attribute\n",
    "print(savings_account.account_holder)\n",
    "\n",
    "# Accessing protected attribute directly (not recommended)\n",
    "print(savings_account._balance)\n",
    "\n",
    "# Calling public method to deposit money\n",
    "savings_account.deposit(500)\n",
    "print(savings_account._balance)\n",
    "\n",
    "# Calling public method to get balance with interest\n",
    "print(savings_account.get_balance_with_interest())\n",
    "\n",
    "# Adding interest using derived class method\n",
    "print(savings_account.add_interest())\n"
   ]
  },
  {
   "cell_type": "code",
   "execution_count": null,
   "id": "719d4d79-75e9-4d04-b99c-c121ee07bf47",
   "metadata": {},
   "outputs": [],
   "source": []
  },
  {
   "cell_type": "code",
   "execution_count": null,
   "id": "b3dae364-6cc3-4685-9fbd-37878e85f5a9",
   "metadata": {},
   "outputs": [],
   "source": []
  },
  {
   "cell_type": "markdown",
   "id": "e4e1ac51-cb87-4c9f-813a-3b299d672d9f",
   "metadata": {},
   "source": [
    "# **PRIVATE ACCESS SPECIFIER**"
   ]
  },
  {
   "cell_type": "code",
   "execution_count": 149,
   "id": "deca1e87-3cbe-4ebd-83f8-b6626ecde7b4",
   "metadata": {},
   "outputs": [
    {
     "name": "stdout",
     "output_type": "stream",
     "text": [
      "Alice\n",
      "Error: 'SavingsAccount' object has no attribute '__balance'\n",
      "1500\n",
      "Balance with interest for Alice: 1575.0\n",
      "Error: 'SavingsAccount' object has no attribute '__calculate_interest'\n"
     ]
    },
    {
     "ename": "AttributeError",
     "evalue": "'SavingsAccount' object has no attribute '_SavingsAccount__balance'",
     "output_type": "error",
     "traceback": [
      "\u001b[1;31m---------------------------------------------------------------------------\u001b[0m",
      "\u001b[1;31mAttributeError\u001b[0m                            Traceback (most recent call last)",
      "Cell \u001b[1;32mIn[149], line 54\u001b[0m\n\u001b[0;32m     51\u001b[0m     \u001b[38;5;28mprint\u001b[39m(\u001b[38;5;124mf\u001b[39m\u001b[38;5;124m\"\u001b[39m\u001b[38;5;124mError: \u001b[39m\u001b[38;5;132;01m{\u001b[39;00me\u001b[38;5;132;01m}\u001b[39;00m\u001b[38;5;124m\"\u001b[39m)\n\u001b[0;32m     53\u001b[0m \u001b[38;5;66;03m# Adding interest using derived class method\u001b[39;00m\n\u001b[1;32m---> 54\u001b[0m \u001b[38;5;28mprint\u001b[39m(savings_account\u001b[38;5;241m.\u001b[39madd_interest())\n",
      "Cell \u001b[1;32mIn[149], line 24\u001b[0m, in \u001b[0;36mSavingsAccount.add_interest\u001b[1;34m(self)\u001b[0m\n\u001b[0;32m     23\u001b[0m \u001b[38;5;28;01mdef\u001b[39;00m \u001b[38;5;21madd_interest\u001b[39m(\u001b[38;5;28mself\u001b[39m):\n\u001b[1;32m---> 24\u001b[0m     interest \u001b[38;5;241m=\u001b[39m \u001b[38;5;28mself\u001b[39m\u001b[38;5;241m.\u001b[39m__balance \u001b[38;5;241m*\u001b[39m \u001b[38;5;28mself\u001b[39m\u001b[38;5;241m.\u001b[39minterest_rate \u001b[38;5;241m/\u001b[39m \u001b[38;5;241m100\u001b[39m  \u001b[38;5;66;03m# Accessing private attribute (will raise an AttributeError)\u001b[39;00m\n\u001b[0;32m     25\u001b[0m     \u001b[38;5;28mself\u001b[39m\u001b[38;5;241m.\u001b[39m__balance \u001b[38;5;241m+\u001b[39m\u001b[38;5;241m=\u001b[39m interest\n\u001b[0;32m     26\u001b[0m     \u001b[38;5;28;01mreturn\u001b[39;00m \u001b[38;5;124mf\u001b[39m\u001b[38;5;124m\"\u001b[39m\u001b[38;5;124mNew balance after interest for \u001b[39m\u001b[38;5;132;01m{\u001b[39;00m\u001b[38;5;28mself\u001b[39m\u001b[38;5;241m.\u001b[39maccount_holder\u001b[38;5;132;01m}\u001b[39;00m\u001b[38;5;124m: \u001b[39m\u001b[38;5;132;01m{\u001b[39;00m\u001b[38;5;28mself\u001b[39m\u001b[38;5;241m.\u001b[39m__balance\u001b[38;5;132;01m}\u001b[39;00m\u001b[38;5;124m\"\u001b[39m\n",
      "\u001b[1;31mAttributeError\u001b[0m: 'SavingsAccount' object has no attribute '_SavingsAccount__balance'"
     ]
    }
   ],
   "source": [
    "class BankAccount:\n",
    "    def __init__(self, account_holder, balance):\n",
    "        self.account_holder = account_holder  # Public attribute\n",
    "        self.__balance = balance              # Private attribute\n",
    "\n",
    "    def deposit(self, amount):\n",
    "        if amount > 0:\n",
    "            self.__balance += amount         # Accessing private attribute\n",
    "        return self.__balance\n",
    "\n",
    "    def __calculate_interest(self):          # Private method\n",
    "        return self.__balance * 0.05\n",
    "\n",
    "    def get_balance_with_interest(self):\n",
    "        interest = self.__calculate_interest()  # Accessing private method\n",
    "        return f\"Balance with interest for {self.account_holder}: {self.__balance + interest}\"\n",
    "\n",
    "class SavingsAccount(BankAccount):\n",
    "    def __init__(self, account_holder, balance, interest_rate):\n",
    "        super().__init__(account_holder, balance)\n",
    "        self.interest_rate = interest_rate\n",
    "\n",
    "    def add_interest(self):\n",
    "        interest = self.__balance * self.interest_rate / 100  # Accessing private attribute (will raise an AttributeError)\n",
    "        self.__balance += interest\n",
    "        return f\"New balance after interest for {self.account_holder}: {self.__balance}\"\n",
    "\n",
    "# Creating an instance of SavingsAccount\n",
    "savings_account = SavingsAccount(\"Alice\", 1000, 3.5)\n",
    "\n",
    "# Accessing public attribute\n",
    "print(savings_account.account_holder)\n",
    "\n",
    "# Attempting to access private attribute directly (will raise an AttributeError)\n",
    "try:\n",
    "    print(savings_account.__balance)\n",
    "except AttributeError as e:\n",
    "    print(f\"Error: {e}\")\n",
    "\n",
    "# Calling public method to deposit money\n",
    "print(savings_account.deposit(500))  # Deposit 500, new balance should be 1500\n",
    "\n",
    "# Calling public method to get balance with interest\n",
    "print(savings_account.get_balance_with_interest())  \n",
    "\n",
    "\n",
    "# Attempting to call private method directly (will raise an AttributeError)\n",
    "try:\n",
    "    print(savings_account.__calculate_interest())\n",
    "except AttributeError as e:\n",
    "    print(f\"Error: {e}\")\n",
    "\n",
    "# Adding interest using derived class method\n",
    "print(savings_account.add_interest())  \n"
   ]
  },
  {
   "cell_type": "code",
   "execution_count": null,
   "id": "976a6abe-57b3-4b32-82e9-cc12299c2b81",
   "metadata": {},
   "outputs": [],
   "source": []
  },
  {
   "cell_type": "code",
   "execution_count": null,
   "id": "a55a6ac0-f29c-4c32-9e13-301248abd934",
   "metadata": {},
   "outputs": [],
   "source": [
    "\n"
   ]
  },
  {
   "cell_type": "markdown",
   "id": "dc4cacaa-d3ef-421f-a546-8410132fa1da",
   "metadata": {},
   "source": [
    "# **METHOD OVERLOADING**"
   ]
  },
  {
   "cell_type": "code",
   "execution_count": 150,
   "id": "320760b8-9a51-467c-8f76-7acecbb55c5a",
   "metadata": {},
   "outputs": [
    {
     "name": "stdout",
     "output_type": "stream",
     "text": [
      "Deposited $500. New balance is $1500.\n",
      "Deposited $210.0 (including interest). New balance is $1710.0.\n",
      "Deposited $300 from list. New balance is $2010.0.\n",
      "Invalid deposit arguments.\n"
     ]
    }
   ],
   "source": [
    "class BankAccount:\n",
    "    def __init__(self, account_holder, balance=0):\n",
    "        self.account_holder = account_holder\n",
    "        self.balance = balance\n",
    "\n",
    "    def deposit(self, *args):\n",
    "        if len(args) == 1 and isinstance(args[0], (int, float)):\n",
    "            # Single argument: Assume it's a direct deposit amount\n",
    "            self.balance += args[0]\n",
    "            return f\"Deposited ${args[0]}. New balance is ${self.balance}.\"\n",
    "        elif len(args) == 2 and isinstance(args[0], (int, float)) and isinstance(args[1], (int, float)):\n",
    "            # Two arguments: Assume the first is amount, second is interest rate\n",
    "            deposit_amount = args[0] + (args[0] * args[1] / 100)\n",
    "            self.balance += deposit_amount\n",
    "            return f\"Deposited ${deposit_amount} (including interest). New balance is ${self.balance}.\"\n",
    "        elif len(args) == 1 and isinstance(args[0], list):\n",
    "            # Single argument as a list: Sum all elements and deposit\n",
    "            deposit_amount = sum(args[0])\n",
    "            self.balance += deposit_amount\n",
    "            return f\"Deposited ${deposit_amount} from list. New balance is ${self.balance}.\"\n",
    "        else:\n",
    "            return \"Invalid deposit arguments.\"\n",
    "\n",
    "# Creating an instance of BankAccount\n",
    "account = BankAccount(\"John Doe\", 1000)\n",
    "\n",
    "# Demonstrating different types of deposits\n",
    "print(account.deposit(500))               # Single amount deposit\n",
    "print(account.deposit(200, 5))            # Deposit with interest calculation\n",
    "print(account.deposit([50, 100, 150]))    # Deposit using a list of amounts\n",
    "print(account.deposit())                  # Invalid deposit due to no arguments\n"
   ]
  },
  {
   "cell_type": "code",
   "execution_count": null,
   "id": "b693b07e-aead-4d67-b498-3fed2b99f0fe",
   "metadata": {},
   "outputs": [],
   "source": []
  },
  {
   "cell_type": "markdown",
   "id": "be507cb6-9ae2-4e46-a49e-45036a1a9679",
   "metadata": {},
   "source": [
    "# **METHOD OVERRIDING**\n"
   ]
  },
  {
   "cell_type": "code",
   "execution_count": 151,
   "id": "d927f5d3-8771-4fed-ad02-63a0a9ebaee9",
   "metadata": {},
   "outputs": [
    {
     "name": "stdout",
     "output_type": "stream",
     "text": [
      "Insufficient funds. Savings accounts cannot be overdrawn.\n",
      "Withdrew $600 from checking. New balance is $-100.\n",
      "Withdrawal denied. Overdraft limit exceeded.\n"
     ]
    }
   ],
   "source": [
    "class BankAccount:\n",
    "    def __init__(self, account_holder, balance=0):\n",
    "        self.account_holder = account_holder\n",
    "        self.balance = balance\n",
    "\n",
    "    def deposit(self, amount):\n",
    "        self.balance += amount\n",
    "        return f\"Deposited ${amount}. New balance is ${self.balance}.\"\n",
    "\n",
    "    def withdraw(self, amount):\n",
    "        if amount > self.balance:\n",
    "            return \"Insufficient funds.\"\n",
    "        else:\n",
    "            self.balance -= amount\n",
    "            return f\"Withdrew ${amount}. New balance is ${self.balance}.\"\n",
    "\n",
    "class SavingsAccount(BankAccount):\n",
    "    def __init__(self, account_holder, balance=0, interest_rate=0.02):\n",
    "        super().__init__(account_holder, balance)\n",
    "        self.interest_rate = interest_rate\n",
    "\n",
    "    def withdraw(self, amount):\n",
    "        if amount > self.balance:\n",
    "            return \"Insufficient funds. Savings accounts cannot be overdrawn.\"\n",
    "        else:\n",
    "            self.balance -= amount\n",
    "            return f\"Withdrew ${amount} from savings. New balance is ${self.balance}.\"\n",
    "\n",
    "class CheckingAccount(BankAccount):\n",
    "    def __init__(self, account_holder, balance=0, overdraft_limit=100):\n",
    "        super().__init__(account_holder, balance)\n",
    "        self.overdraft_limit = overdraft_limit\n",
    "\n",
    "    def withdraw(self, amount):\n",
    "        if amount > self.balance + self.overdraft_limit:\n",
    "            return \"Withdrawal denied. Overdraft limit exceeded.\"\n",
    "        else:\n",
    "            self.balance -= amount\n",
    "            return f\"Withdrew ${amount} from checking. New balance is ${self.balance}.\"\n",
    "\n",
    "# Creating instances of different account types\n",
    "savings = SavingsAccount(\"Alice\", 500)\n",
    "checking = CheckingAccount(\"Bob\", 500)\n",
    "\n",
    "# Demonstrating withdrawals with method overriding\n",
    "print(savings.withdraw(600))  # Output: Insufficient funds. Savings accounts cannot be overdrawn.\n",
    "print(checking.withdraw(600)) # Output: Withdrew $600 from checking. New balance is -$100.\n",
    "print(checking.withdraw(700)) # Output: Withdrawal denied. Overdraft limit exceeded.\n"
   ]
  },
  {
   "cell_type": "code",
   "execution_count": null,
   "id": "20f76393-b14d-458c-a132-729bccf70f1a",
   "metadata": {},
   "outputs": [],
   "source": []
  },
  {
   "cell_type": "code",
   "execution_count": null,
   "id": "36bfaf0b-274a-475b-a936-63934a9e1143",
   "metadata": {},
   "outputs": [],
   "source": []
  }
 ],
 "metadata": {
  "kernelspec": {
   "display_name": "Python 3 (ipykernel)",
   "language": "python",
   "name": "python3"
  },
  "language_info": {
   "codemirror_mode": {
    "name": "ipython",
    "version": 3
   },
   "file_extension": ".py",
   "mimetype": "text/x-python",
   "name": "python",
   "nbconvert_exporter": "python",
   "pygments_lexer": "ipython3",
   "version": "3.11.7"
  }
 },
 "nbformat": 4,
 "nbformat_minor": 5
}
